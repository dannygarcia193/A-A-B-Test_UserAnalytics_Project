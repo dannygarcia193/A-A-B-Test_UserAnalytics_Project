{
 "cells": [
  {
   "cell_type": "markdown",
   "metadata": {},
   "source": [
    "<h1 style='text-align:center'>User Behavior and A/A/B Test Analysis Project </h1>"
   ]
  },
  {
   "cell_type": "markdown",
   "metadata": {},
   "source": [
    "## Project Description / Business Problem"
   ]
  },
  {
   "cell_type": "markdown",
   "metadata": {},
   "source": [
    "> You work at a startup that sells food products. You need to investigate user behavior for the company's app.\n",
    "First study the sales funnel. Find out how users reach the purchase stage. \n",
    "\n",
    ">Then look at the results of an A/A/B test. The designers would like to change the fonts for the entire app, but the managers are afraid the users might find the new design intimidating. They decide to make a decision based on the results of an A/A/B test.\n",
    "The users are split into three groups: two control groups get the old fonts and one test group gets the new ones. Find out which set of fonts produces better results.\n",
    "You'll be using the same dataset for general analytics and for A/A/B analysis. In real projects, experiments are constantly being conducted. Analysts study the quality of an app using general data, without paying attention to whether users are participating in experiments."
   ]
  },
  {
   "cell_type": "markdown",
   "metadata": {},
   "source": [
    "# Findings \n",
    "1. A further analysis should be done looking at potential errors occurring during the mainscreen and offerscreen stages based on the differing proportions amongst the control groups.\n",
    "2. Need for improvements in retention at the offer screen as well as potential for improvement in getting customer's from purchasing the items that they have in their cart.\n",
    "3. Based on the non-significant the A/B test results, stabilizing cumulative charts, the company should: Stop the experiment as the results don't show any improvement in  user conversion rates between the control groups and the experimental group\n",
    "    - all relevant t-tests regardless of outlier presence: p > .05"
   ]
  },
  {
   "cell_type": "markdown",
   "metadata": {},
   "source": [
    "# Datasets Used"
   ]
  },
  {
   "cell_type": "markdown",
   "metadata": {},
   "source": [
    "Each log entry is a user action or an event.\n",
    " - EventName — event name\n",
    " - DeviceIDHash — unique user identifier\n",
    " - EventTimestamp — event time\n",
    " - ExpId — experiment number: 246 and 247 are the control groups, 248 is the test group"
   ]
  },
  {
   "cell_type": "markdown",
   "metadata": {},
   "source": [
    "# Packages Used"
   ]
  },
  {
   "cell_type": "code",
   "execution_count": 281,
   "metadata": {},
   "outputs": [
    {
     "data": {
      "text/html": [
       "        <script type=\"text/javascript\">\n",
       "        window.PlotlyConfig = {MathJaxConfig: 'local'};\n",
       "        if (window.MathJax) {MathJax.Hub.Config({SVG: {font: \"STIX-Web\"}});}\n",
       "        if (typeof require !== 'undefined') {\n",
       "        require.undef(\"plotly\");\n",
       "        requirejs.config({\n",
       "            paths: {\n",
       "                'plotly': ['https://cdn.plot.ly/plotly-latest.min']\n",
       "            }\n",
       "        });\n",
       "        require(['plotly'], function(Plotly) {\n",
       "            window._Plotly = Plotly;\n",
       "        });\n",
       "        }\n",
       "        </script>\n",
       "        "
      ]
     },
     "metadata": {},
     "output_type": "display_data"
    }
   ],
   "source": [
    "import pandas as pd\n",
    "from matplotlib import pyplot as plt\n",
    "import seaborn as sns\n",
    "from scipy import stats as st\n",
    "import numpy as np\n",
    "from datetime import datetime\n",
    "import plotly.offline as py\n",
    "py.init_notebook_mode(connected=True)\n",
    "from plotly import graph_objects as go\n",
    "import plotly.express as px\n",
    "from statsmodels.stats.proportion import proportions_ztest\n",
    "from matplotlib import ticker\n",
    "from datetime import datetime, timedelta\n",
    "%matplotlib inline"
   ]
  },
  {
   "cell_type": "markdown",
   "metadata": {},
   "source": [
    "# General Overview"
   ]
  },
  {
   "cell_type": "code",
   "execution_count": 282,
   "metadata": {},
   "outputs": [],
   "source": [
    "df = pd.read_csv(r\"C:\\Users\\garci\\Downloads\\logs_exp_us.csv\",sep='\\t')\n"
   ]
  },
  {
   "cell_type": "code",
   "execution_count": 283,
   "metadata": {},
   "outputs": [],
   "source": [
    "#changing column names for convenience\n",
    "df.columns = ['event_name', 'user_id', 'timestamp', 'experiment_id']"
   ]
  },
  {
   "cell_type": "markdown",
   "metadata": {},
   "source": [
    "First things first, we'll check for any instance of a null values, duplicates, and do the necessary data wrangling thereafter for any other oddities in the data."
   ]
  },
  {
   "cell_type": "markdown",
   "metadata": {},
   "source": [
    "## Event timestamps -- Potential error"
   ]
  },
  {
   "cell_type": "markdown",
   "metadata": {},
   "source": [
    "Note: went back to do this after finding that the date in place did not follow a sequential order when taking the minimum event for each event per user. The minimum timestamps for some users did not follow a logical user journey cycle (visit the main screen -> payment screen). \n",
    "\n",
    "The most probable reason is that we received data starting from some point of time - so, if this time point was the middle of some user's session, his/her first event would be unpredictable. It makes sense too because a user can have the cart or payment screen saved and then accessed it back again (thus avoiding the main screen)."
   ]
  },
  {
   "cell_type": "code",
   "execution_count": 284,
   "metadata": {},
   "outputs": [
    {
     "data": {
      "text/html": [
       "<div>\n",
       "<style scoped>\n",
       "    .dataframe tbody tr th:only-of-type {\n",
       "        vertical-align: middle;\n",
       "    }\n",
       "\n",
       "    .dataframe tbody tr th {\n",
       "        vertical-align: top;\n",
       "    }\n",
       "\n",
       "    .dataframe thead th {\n",
       "        text-align: right;\n",
       "    }\n",
       "</style>\n",
       "<table border=\"1\" class=\"dataframe\">\n",
       "  <thead>\n",
       "    <tr style=\"text-align: right;\">\n",
       "      <th>event_name</th>\n",
       "      <th>MainScreenAppear</th>\n",
       "      <th>OffersScreenAppear</th>\n",
       "      <th>CartScreenAppear</th>\n",
       "      <th>PaymentScreenSuccessful</th>\n",
       "    </tr>\n",
       "    <tr>\n",
       "      <th>user_id</th>\n",
       "      <th></th>\n",
       "      <th></th>\n",
       "      <th></th>\n",
       "      <th></th>\n",
       "    </tr>\n",
       "  </thead>\n",
       "  <tbody>\n",
       "    <tr>\n",
       "      <th>6888746892508752</th>\n",
       "      <td>NaT</td>\n",
       "      <td>NaT</td>\n",
       "      <td>NaT</td>\n",
       "      <td>NaT</td>\n",
       "    </tr>\n",
       "    <tr>\n",
       "      <th>6909561520679493</th>\n",
       "      <td>NaT</td>\n",
       "      <td>0 days 00:00:10</td>\n",
       "      <td>-1 days +23:59:54</td>\n",
       "      <td>00:00:00</td>\n",
       "    </tr>\n",
       "    <tr>\n",
       "      <th>6922444491712477</th>\n",
       "      <td>NaT</td>\n",
       "      <td>0 days 00:00:13</td>\n",
       "      <td>-1 days +23:59:54</td>\n",
       "      <td>00:00:00</td>\n",
       "    </tr>\n",
       "    <tr>\n",
       "      <th>7435777799948366</th>\n",
       "      <td>NaT</td>\n",
       "      <td>NaT</td>\n",
       "      <td>NaT</td>\n",
       "      <td>NaT</td>\n",
       "    </tr>\n",
       "    <tr>\n",
       "      <th>7702139951469979</th>\n",
       "      <td>NaT</td>\n",
       "      <td>0 days 00:00:02</td>\n",
       "      <td>1 days 09:58:49</td>\n",
       "      <td>00:00:00</td>\n",
       "    </tr>\n",
       "    <tr>\n",
       "      <th>...</th>\n",
       "      <td>...</td>\n",
       "      <td>...</td>\n",
       "      <td>...</td>\n",
       "      <td>...</td>\n",
       "    </tr>\n",
       "    <tr>\n",
       "      <th>9217594193087726423</th>\n",
       "      <td>NaT</td>\n",
       "      <td>NaT</td>\n",
       "      <td>-1 days +23:59:50</td>\n",
       "      <td>-1 days +23:59:59</td>\n",
       "    </tr>\n",
       "    <tr>\n",
       "      <th>9219463515465815368</th>\n",
       "      <td>NaT</td>\n",
       "      <td>1 days 11:22:31</td>\n",
       "      <td>0 days 00:00:43</td>\n",
       "      <td>00:02:36</td>\n",
       "    </tr>\n",
       "    <tr>\n",
       "      <th>9220879493065341500</th>\n",
       "      <td>NaT</td>\n",
       "      <td>4 days 03:29:02</td>\n",
       "      <td>0 days 00:00:16</td>\n",
       "      <td>NaT</td>\n",
       "    </tr>\n",
       "    <tr>\n",
       "      <th>9221926045299980007</th>\n",
       "      <td>NaT</td>\n",
       "      <td>NaT</td>\n",
       "      <td>NaT</td>\n",
       "      <td>NaT</td>\n",
       "    </tr>\n",
       "    <tr>\n",
       "      <th>9222603179720523844</th>\n",
       "      <td>NaT</td>\n",
       "      <td>NaT</td>\n",
       "      <td>NaT</td>\n",
       "      <td>NaT</td>\n",
       "    </tr>\n",
       "  </tbody>\n",
       "</table>\n",
       "<p>7551 rows × 4 columns</p>\n",
       "</div>"
      ],
      "text/plain": [
       "event_name          MainScreenAppear OffersScreenAppear  CartScreenAppear  \\\n",
       "user_id                                                                     \n",
       "6888746892508752                 NaT                NaT               NaT   \n",
       "6909561520679493                 NaT    0 days 00:00:10 -1 days +23:59:54   \n",
       "6922444491712477                 NaT    0 days 00:00:13 -1 days +23:59:54   \n",
       "7435777799948366                 NaT                NaT               NaT   \n",
       "7702139951469979                 NaT    0 days 00:00:02   1 days 09:58:49   \n",
       "...                              ...                ...               ...   \n",
       "9217594193087726423              NaT                NaT -1 days +23:59:50   \n",
       "9219463515465815368              NaT    1 days 11:22:31   0 days 00:00:43   \n",
       "9220879493065341500              NaT    4 days 03:29:02   0 days 00:00:16   \n",
       "9221926045299980007              NaT                NaT               NaT   \n",
       "9222603179720523844              NaT                NaT               NaT   \n",
       "\n",
       "event_name          PaymentScreenSuccessful  \n",
       "user_id                                      \n",
       "6888746892508752                        NaT  \n",
       "6909561520679493                   00:00:00  \n",
       "6922444491712477                   00:00:00  \n",
       "7435777799948366                        NaT  \n",
       "7702139951469979                   00:00:00  \n",
       "...                                     ...  \n",
       "9217594193087726423       -1 days +23:59:59  \n",
       "9219463515465815368                00:02:36  \n",
       "9220879493065341500                     NaT  \n",
       "9221926045299980007                     NaT  \n",
       "9222603179720523844                     NaT  \n",
       "\n",
       "[7551 rows x 4 columns]"
      ]
     },
     "execution_count": 284,
     "metadata": {},
     "output_type": "execute_result"
    }
   ],
   "source": [
    "# current row value - previous row\n",
    "df['timestamp'] = df['timestamp'].apply(lambda x: datetime.fromtimestamp(x))\n",
    "\n",
    "User_Mindate_event = df.pivot_table(index='user_id',\n",
    "                                    columns='event_name',\n",
    "                                    values='timestamp',\n",
    "                                    aggfunc='min')\n",
    "\n",
    "# referencing the previous row values with .shift() -> (x - x.shift())\n",
    "User_Mindate_event[[\n",
    "    'MainScreenAppear', 'OffersScreenAppear', 'CartScreenAppear',\n",
    "    'PaymentScreenSuccessful', 'Tutorial'\n",
    "]].iloc[:, :-1].apply(lambda x: x - x.shift(+1), 1)"
   ]
  },
  {
   "cell_type": "markdown",
   "metadata": {},
   "source": [
    "## Normal checks"
   ]
  },
  {
   "cell_type": "code",
   "execution_count": 285,
   "metadata": {},
   "outputs": [
    {
     "data": {
      "text/plain": [
       "event_name       0\n",
       "user_id          0\n",
       "timestamp        0\n",
       "experiment_id    0\n",
       "dtype: int64"
      ]
     },
     "execution_count": 285,
     "metadata": {},
     "output_type": "execute_result"
    }
   ],
   "source": [
    "#null check\n",
    "df.isnull().sum()"
   ]
  },
  {
   "cell_type": "code",
   "execution_count": 286,
   "metadata": {},
   "outputs": [],
   "source": [
    "def missing_values(data):\n",
    "    \"\"\"\n",
    "    Function that takes in a dataframe, iterates over each of its columns and checks for\n",
    "    common indicators of missing values (ie. negative values).   \n",
    "\n",
    "    Args:\n",
    "         data (pandas.DataFrame): Dataframe to be checked\n",
    "\n",
    "    Returns:\n",
    "        list (dict): a list containing (if any) a dictionar[y/ies] of key:value pair in the \n",
    "        following format - {column's missing value: % of column's missing value} - sorted in descending order\n",
    "    \"\"\"\n",
    "    \n",
    "    miss = {}\n",
    "    if len(data.columns) <= 0:\n",
    "        print('Something went wrong. No columns detected.')\n",
    "    for i in data.columns:  # iterate through all columns in dataset to search for each defined missing value\n",
    "        if data[i].isnull().any():\n",
    "            miss[i] = 'Null values ' + str(\n",
    "                round(\n",
    "                    len(data[data[i].isnull() == True]) / len(data) * 100, 2))\n",
    "        if len(data[data[i] == 0]) > 1:\n",
    "            miss[i] = 'Zero values ' + str(\n",
    "                round(len(data[data[i] == 0]) / len(data) * 100, 2))\n",
    "        try:\n",
    "            if len(np.where(data[i] == '')) > 1:\n",
    "                miss[i] = 'Empty strings ' + str(\n",
    "                    round(len(data[data[i] == '']) / len(data) * 100, 2))\n",
    "        except:\n",
    "            pass\n",
    "        if np.issubdtype(data[i].dtype,\n",
    "                         np.number) and len(data[data[i] < 0]) > 1:\n",
    "            miss[i] = 'Negative values ' + str(\n",
    "                round(len(data[data[i] < 0]) / len(data) * 100, 2))\n",
    "        try:\n",
    "            if len(data[data[i].str.lower.isin(['n/a', 'na', 'an', 'n\\a', '?'\n",
    "                                                ])]) > 1:\n",
    "                miss[i] = 'other null values present'\n",
    "        except:\n",
    "            try:\n",
    "                if len(data[data[i].isin(['N/A', '?', 'na', 'Na', 'N/a'\n",
    "                                          ])]) > 1:\n",
    "                    miss[i] = 'other null values present'\n",
    "            except:\n",
    "                print(i)\n",
    "                continue\n",
    "    return sorted(miss.items(),\n",
    "                  key=lambda x: float(miss[x[0]].split(' ')[-1]),\n",
    "                  reverse=True)"
   ]
  },
  {
   "cell_type": "code",
   "execution_count": 287,
   "metadata": {},
   "outputs": [
    {
     "name": "stdout",
     "output_type": "stream",
     "text": [
      "timestamp\n"
     ]
    },
    {
     "name": "stderr",
     "output_type": "stream",
     "text": [
      "C:\\Users\\garci\\Anaconda3\\lib\\site-packages\\pandas\\core\\ops\\array_ops.py:253: FutureWarning:\n",
      "\n",
      "elementwise comparison failed; returning scalar instead, but in the future will perform elementwise comparison\n",
      "\n"
     ]
    },
    {
     "data": {
      "text/plain": [
       "[]"
      ]
     },
     "execution_count": 287,
     "metadata": {},
     "output_type": "execute_result"
    }
   ],
   "source": [
    "missing_values(df)"
   ]
  },
  {
   "cell_type": "markdown",
   "metadata": {},
   "source": [
    "No instances of null values! Next up, duplicates. (Note: timestamp was printed bc it ran into a exception. From the looks of it, it was the value comparison--date to string--that threw it off, will update accordingly later)."
   ]
  },
  {
   "cell_type": "code",
   "execution_count": 288,
   "metadata": {},
   "outputs": [
    {
     "data": {
      "text/html": [
       "<div>\n",
       "<style scoped>\n",
       "    .dataframe tbody tr th:only-of-type {\n",
       "        vertical-align: middle;\n",
       "    }\n",
       "\n",
       "    .dataframe tbody tr th {\n",
       "        vertical-align: top;\n",
       "    }\n",
       "\n",
       "    .dataframe thead th {\n",
       "        text-align: right;\n",
       "    }\n",
       "</style>\n",
       "<table border=\"1\" class=\"dataframe\">\n",
       "  <thead>\n",
       "    <tr style=\"text-align: right;\">\n",
       "      <th></th>\n",
       "      <th>event_name</th>\n",
       "      <th>user_id</th>\n",
       "      <th>timestamp</th>\n",
       "      <th>experiment_id</th>\n",
       "    </tr>\n",
       "  </thead>\n",
       "  <tbody>\n",
       "    <tr>\n",
       "      <th>452</th>\n",
       "      <td>MainScreenAppear</td>\n",
       "      <td>5613408041324010552</td>\n",
       "      <td>2019-07-30 01:19:44</td>\n",
       "      <td>248</td>\n",
       "    </tr>\n",
       "    <tr>\n",
       "      <th>453</th>\n",
       "      <td>MainScreenAppear</td>\n",
       "      <td>5613408041324010552</td>\n",
       "      <td>2019-07-30 01:19:44</td>\n",
       "      <td>248</td>\n",
       "    </tr>\n",
       "    <tr>\n",
       "      <th>2348</th>\n",
       "      <td>CartScreenAppear</td>\n",
       "      <td>1694940645335807244</td>\n",
       "      <td>2019-07-31 14:51:39</td>\n",
       "      <td>248</td>\n",
       "    </tr>\n",
       "    <tr>\n",
       "      <th>2350</th>\n",
       "      <td>CartScreenAppear</td>\n",
       "      <td>1694940645335807244</td>\n",
       "      <td>2019-07-31 14:51:39</td>\n",
       "      <td>248</td>\n",
       "    </tr>\n",
       "    <tr>\n",
       "      <th>3572</th>\n",
       "      <td>MainScreenAppear</td>\n",
       "      <td>434103746454591587</td>\n",
       "      <td>2019-07-31 19:59:37</td>\n",
       "      <td>248</td>\n",
       "    </tr>\n",
       "    <tr>\n",
       "      <th>...</th>\n",
       "      <td>...</td>\n",
       "      <td>...</td>\n",
       "      <td>...</td>\n",
       "      <td>...</td>\n",
       "    </tr>\n",
       "    <tr>\n",
       "      <th>242359</th>\n",
       "      <td>PaymentScreenSuccessful</td>\n",
       "      <td>2382591782303281935</td>\n",
       "      <td>2019-08-07 12:27:29</td>\n",
       "      <td>246</td>\n",
       "    </tr>\n",
       "    <tr>\n",
       "      <th>242360</th>\n",
       "      <td>PaymentScreenSuccessful</td>\n",
       "      <td>2382591782303281935</td>\n",
       "      <td>2019-08-07 12:27:29</td>\n",
       "      <td>246</td>\n",
       "    </tr>\n",
       "    <tr>\n",
       "      <th>242362</th>\n",
       "      <td>CartScreenAppear</td>\n",
       "      <td>2382591782303281935</td>\n",
       "      <td>2019-08-07 12:27:29</td>\n",
       "      <td>246</td>\n",
       "    </tr>\n",
       "    <tr>\n",
       "      <th>242634</th>\n",
       "      <td>MainScreenAppear</td>\n",
       "      <td>4097782667445790512</td>\n",
       "      <td>2019-08-07 12:36:58</td>\n",
       "      <td>246</td>\n",
       "    </tr>\n",
       "    <tr>\n",
       "      <th>242635</th>\n",
       "      <td>MainScreenAppear</td>\n",
       "      <td>4097782667445790512</td>\n",
       "      <td>2019-08-07 12:36:58</td>\n",
       "      <td>246</td>\n",
       "    </tr>\n",
       "  </tbody>\n",
       "</table>\n",
       "<p>768 rows × 4 columns</p>\n",
       "</div>"
      ],
      "text/plain": [
       "                     event_name              user_id           timestamp  \\\n",
       "452            MainScreenAppear  5613408041324010552 2019-07-30 01:19:44   \n",
       "453            MainScreenAppear  5613408041324010552 2019-07-30 01:19:44   \n",
       "2348           CartScreenAppear  1694940645335807244 2019-07-31 14:51:39   \n",
       "2350           CartScreenAppear  1694940645335807244 2019-07-31 14:51:39   \n",
       "3572           MainScreenAppear   434103746454591587 2019-07-31 19:59:37   \n",
       "...                         ...                  ...                 ...   \n",
       "242359  PaymentScreenSuccessful  2382591782303281935 2019-08-07 12:27:29   \n",
       "242360  PaymentScreenSuccessful  2382591782303281935 2019-08-07 12:27:29   \n",
       "242362         CartScreenAppear  2382591782303281935 2019-08-07 12:27:29   \n",
       "242634         MainScreenAppear  4097782667445790512 2019-08-07 12:36:58   \n",
       "242635         MainScreenAppear  4097782667445790512 2019-08-07 12:36:58   \n",
       "\n",
       "        experiment_id  \n",
       "452               248  \n",
       "453               248  \n",
       "2348              248  \n",
       "2350              248  \n",
       "3572              248  \n",
       "...               ...  \n",
       "242359            246  \n",
       "242360            246  \n",
       "242362            246  \n",
       "242634            246  \n",
       "242635            246  \n",
       "\n",
       "[768 rows x 4 columns]"
      ]
     },
     "execution_count": 288,
     "metadata": {},
     "output_type": "execute_result"
    }
   ],
   "source": [
    "#checking for duplicates\n",
    "df[df.duplicated(keep=False)]"
   ]
  },
  {
   "cell_type": "code",
   "execution_count": 289,
   "metadata": {
    "scrolled": true
   },
   "outputs": [
    {
     "data": {
      "text/plain": [
       "(355, 0.1454167110426583)"
      ]
     },
     "execution_count": 289,
     "metadata": {},
     "output_type": "execute_result"
    }
   ],
   "source": [
    "len(df[df.duplicated(keep=False)]) - len(df[df.duplicated(\n",
    "    keep='first')]), (len(df[df.duplicated(keep=False)]) -\n",
    "                      len(df[df.duplicated(keep='first')])) / len(df) * 100"
   ]
  },
  {
   "cell_type": "markdown",
   "metadata": {},
   "source": [
    "When checking duplicate rows, we can observe that there are 355 (0.15%) rows that have been marked as duplicates. Based on the variables, it makes sense to drop them given the unlikelihood of them appearing, especially at the same time; we'll keep the first instance of rows marked as duplicate. Lastly, we'll mark this down and let the applicable person regarding the duplicate instance."
   ]
  },
  {
   "cell_type": "code",
   "execution_count": 290,
   "metadata": {},
   "outputs": [],
   "source": [
    "df = df[~df.duplicated()].reset_index(drop=True)"
   ]
  },
  {
   "cell_type": "markdown",
   "metadata": {},
   "source": [
    "How many events are in the logs? "
   ]
  },
  {
   "cell_type": "code",
   "execution_count": 291,
   "metadata": {},
   "outputs": [],
   "source": [
    "def custom_graph(grid_axis, labelsize, xlabel, ylabel, title, fontsize, pad, grid=True):\n",
    "    \"\"\"\n",
    "    Function that takes in graph variables for the purpose of customizing \n",
    "    their default settings (ie. setting label size)\n",
    "\n",
    "    Args:\n",
    "        labelsize, fontsize,pad (int,float)\n",
    "        grid_axis,xlabel,ylabel,title (str) \n",
    "\n",
    "    Returns:\n",
    "        None: displays plot with modified chart settings \n",
    "    \"\"\"\n",
    "    sns.despine()\n",
    "    if grid == True:\n",
    "        ax.grid(axis=grid_axis, linewidth=.5, zorder=2)\n",
    "    ax.spines['bottom'].set_color('gray')\n",
    "    ax.spines['left'].set_color('lightgrey')\n",
    "    ax.tick_params(labelsize=labelsize)\n",
    "    ax.tick_params(axis='both', left=False, bottom=False)\n",
    "    \n",
    "    # labels\n",
    "    plt.ylabel(ylabel, labelpad=15, fontsize=16)\n",
    "    plt.xlabel(xlabel, labelpad=15, fontsize=16)\n",
    "    plt.title(title, fontsize=fontsize, pad=pad)\n",
    "    plt.show()"
   ]
  },
  {
   "cell_type": "code",
   "execution_count": 292,
   "metadata": {},
   "outputs": [
    {
     "data": {
      "image/png": "[encoded data removed]",
      "text/plain": [
       "<Figure size 864x360 with 1 Axes>"
      ]
     },
     "metadata": {
      "needs_background": "light"
     },
     "output_type": "display_data"
    }
   ],
   "source": [
    "fig, ax = plt.subplots(figsize=(12, 5))\n",
    "df['event_name'].value_counts(normalize=True).plot(kind='barh',\n",
    "                                                   rot=0,\n",
    "                                                   alpha=.8)\n",
    "ax.xaxis.set_major_formatter(ticker.PercentFormatter(1, decimals=0))\n",
    "plt.grid(axis='x', alpha=.7)\n",
    "custom_graph('x', 13, 'Percentage', '', 'Proportion of Events in Log', 20, 15)"
   ]
  },
  {
   "cell_type": "markdown",
   "metadata": {},
   "source": [
    "There are a total of four events; all follow a sequential pattern with the exception of tutorial. "
   ]
  },
  {
   "cell_type": "markdown",
   "metadata": {},
   "source": [
    "How many users are in the logs?"
   ]
  },
  {
   "cell_type": "code",
   "execution_count": 293,
   "metadata": {},
   "outputs": [
    {
     "name": "stdout",
     "output_type": "stream",
     "text": [
      "Unique Users: 7551 \n",
      " Total Events 243713 \n",
      " Top User: 0.947 %\n"
     ]
    }
   ],
   "source": [
    "print(\n",
    "    'Unique Users:', df['user_id'].nunique(), '\\n', 'Total Events',\n",
    "    len(df['user_id']), '\\n', 'Top User:',\n",
    "    round(\n",
    "        df['user_id'].value_counts(normalize=True).sort_values().tail(1) * 100,\n",
    "        3).values[0], '%')"
   ]
  },
  {
   "cell_type": "markdown",
   "metadata": {},
   "source": [
    "There are a total of 7,551 users and a total of 243,713 events recorded by them. The top user made close to 1% of the events recorded in the log. Considering the number of events in the log, this will be explored further."
   ]
  },
  {
   "cell_type": "code",
   "execution_count": 294,
   "metadata": {},
   "outputs": [],
   "source": [
    "#group by users and obtain their total event count (here event_name is a dummy variable)\n",
    "eventUser_count = df.groupby('user_id').agg({'event_name':\n",
    "                                             'count'})['event_name']"
   ]
  },
  {
   "cell_type": "code",
   "execution_count": 295,
   "metadata": {},
   "outputs": [
    {
     "data": {
      "text/plain": [
       "32.27559263673685"
      ]
     },
     "execution_count": 295,
     "metadata": {},
     "output_type": "execute_result"
    }
   ],
   "source": [
    "events_mean = eventUser_count.mean()\n",
    "events_mean"
   ]
  },
  {
   "cell_type": "markdown",
   "metadata": {},
   "source": [
    "On average, a user would go through 32 events."
   ]
  },
  {
   "cell_type": "markdown",
   "metadata": {},
   "source": [
    "Visualizing the distribution of events per user"
   ]
  },
  {
   "cell_type": "code",
   "execution_count": 296,
   "metadata": {},
   "outputs": [
    {
     "data": {
      "image/png": "[encoded data removed]",
      "text/plain": [
       "<Figure size 720x360 with 1 Axes>"
      ]
     },
     "metadata": {
      "needs_background": "light"
     },
     "output_type": "display_data"
    }
   ],
   "source": [
    "ax = eventUser_count.sort_values().plot.box(figsize=(10, 5), vert=False)\n",
    "\n",
    "ax.set_yticklabels([])\n",
    "custom_graph('x', 13, 'Count', '', 'Distribution of Events Per Unique User', 18, 10)"
   ]
  },
  {
   "cell_type": "markdown",
   "metadata": {},
   "source": [
    "The average is not the correct measurement to use and we will report the median number of events per user instead. Per the box plot, some users had > 2000 events recorded for them. This high interaction with the platform may pose an issue with the planned hypothesis test. "
   ]
  },
  {
   "cell_type": "code",
   "execution_count": 297,
   "metadata": {},
   "outputs": [
    {
     "name": "stdout",
     "output_type": "stream",
     "text": [
      "count    7551.000000\n",
      "mean       32.275593\n",
      "std        65.154219\n",
      "min         1.000000\n",
      "25%         9.000000\n",
      "50%        20.000000\n",
      "75%        37.000000\n",
      "max      2307.000000\n",
      "Name: event_name, dtype: float64\n",
      "\n",
      "95 quantile: 89.0 \n",
      " 99 quantile: 200.5\n"
     ]
    }
   ],
   "source": [
    "#general statistical description of events per user\n",
    "print(eventUser_count.describe())\n",
    "print()\n",
    "print('95 quantile:', eventUser_count.quantile(.95), '\\n', '99 quantile:',\n",
    "      eventUser_count.quantile(.99))"
   ]
  },
  {
   "cell_type": "markdown",
   "metadata": {},
   "source": [
    "Let's check out the time range."
   ]
  },
  {
   "cell_type": "code",
   "execution_count": 298,
   "metadata": {},
   "outputs": [
    {
     "data": {
      "text/plain": [
       "Timedelta('13 days 16:31:41')"
      ]
     },
     "execution_count": 298,
     "metadata": {},
     "output_type": "execute_result"
    }
   ],
   "source": [
    "df['timestamp'].max() -df['timestamp'].min()"
   ]
  },
  {
   "cell_type": "markdown",
   "metadata": {},
   "source": [
    "Over 2,300 event logs were recorded for just one user within a time span of roughly 14 days."
   ]
  },
  {
   "cell_type": "code",
   "execution_count": 299,
   "metadata": {},
   "outputs": [
    {
     "data": {
      "text/plain": [
       "6.866071428571428"
      ]
     },
     "execution_count": 299,
     "metadata": {},
     "output_type": "execute_result"
    }
   ],
   "source": [
    "days, hour, max_Usersession = 14,24,eventUser_count.max()\n",
    "(max_Usersession/days)/hour"
   ]
  },
  {
   "cell_type": "markdown",
   "metadata": {},
   "source": [
    "So around 6 events per hour. This sounds abnormal given that the company sells food. CLearly we have outliers to take care of. We'll need to check out on the date before doing so to get a better picture of this.\n"
   ]
  },
  {
   "cell_type": "markdown",
   "metadata": {},
   "source": [
    "Let's plot a histogram to look at the distribution of date and time."
   ]
  },
  {
   "cell_type": "code",
   "execution_count": 300,
   "metadata": {},
   "outputs": [
    {
     "data": {
      "image/png": "[encoded data removed]",
      "text/plain": [
       "<Figure size 936x360 with 1 Axes>"
      ]
     },
     "metadata": {
      "needs_background": "light"
     },
     "output_type": "display_data"
    }
   ],
   "source": [
    "ax = df['timestamp'].hist(figsize=(13, 5), bins=100)\n",
    "plt.grid(axis='x')\n",
    "ax.tick_params('x', labelrotation=25)\n",
    "custom_graph('y', 13, 'Date', 'Count', 'Time Distribution of Log Events', 20,15)"
   ]
  },
  {
   "cell_type": "markdown",
   "metadata": {},
   "source": [
    "The data seems to be unequally distributed for the period. Older events could have ended up in some user's log due to technical reasons and as such, will also be listed down in the email sent to our \"hypothetical\" collegaue.\n",
    "\n",
    "Given the share of where the count seems to be roughly located at (between June 31st to July 7th), we'll use a timespan of exactly 7 days. So in this case, the start of the week will be 7 days from the max recorded time."
   ]
  },
  {
   "cell_type": "code",
   "execution_count": 301,
   "metadata": {},
   "outputs": [
    {
     "data": {
      "text/plain": [
       "'2019-07-31 14:15:17'"
      ]
     },
     "execution_count": 301,
     "metadata": {},
     "output_type": "execute_result"
    }
   ],
   "source": [
    "start_of_week = str(df['timestamp'].max() - timedelta(days=7))\n",
    "start_of_week"
   ]
  },
  {
   "cell_type": "code",
   "execution_count": 302,
   "metadata": {
    "scrolled": false
   },
   "outputs": [
    {
     "data": {
      "image/png": "[encoded data removed]",
      "text/plain": [
       "<Figure size 1080x360 with 1 Axes>"
      ]
     },
     "metadata": {
      "needs_background": "light"
     },
     "output_type": "display_data"
    }
   ],
   "source": [
    "ax = df[df['timestamp'] > start_of_week]['timestamp'].hist(figsize=(15, 5),\n",
    "                                                           bins=100)\n",
    "plt.grid(False)\n",
    "custom_graph('y', 13, 'Date', 'Count', 'Time Distribution of Log Events', 20,15)"
   ]
  },
  {
   "cell_type": "markdown",
   "metadata": {},
   "source": [
    "Cutting off the old events, the distribution of time now looks distributed. "
   ]
  },
  {
   "cell_type": "code",
   "execution_count": 303,
   "metadata": {},
   "outputs": [
    {
     "data": {
      "text/plain": [
       "(0.8436152359537654, 2056)"
      ]
     },
     "execution_count": 303,
     "metadata": {},
     "output_type": "execute_result"
    }
   ],
   "source": [
    "new = df[(df['timestamp'] > start_of_week)]\n",
    "\n",
    "(len(df) - len(new) )/ len(df) * 100, len(\n",
    "    df[(df['timestamp'] < start_of_week)])"
   ]
  },
  {
   "cell_type": "markdown",
   "metadata": {},
   "source": [
    "Only 2,056 or .84% of event instances will be dropped--not a lot of data. We'll save the dataframe into a new variable: data."
   ]
  },
  {
   "cell_type": "code",
   "execution_count": 304,
   "metadata": {},
   "outputs": [
    {
     "data": {
      "text/html": [
       "<div>\n",
       "<style scoped>\n",
       "    .dataframe tbody tr th:only-of-type {\n",
       "        vertical-align: middle;\n",
       "    }\n",
       "\n",
       "    .dataframe tbody tr th {\n",
       "        vertical-align: top;\n",
       "    }\n",
       "\n",
       "    .dataframe thead th {\n",
       "        text-align: right;\n",
       "    }\n",
       "</style>\n",
       "<table border=\"1\" class=\"dataframe\">\n",
       "  <thead>\n",
       "    <tr style=\"text-align: right;\">\n",
       "      <th></th>\n",
       "      <th>event_name</th>\n",
       "      <th>user_id</th>\n",
       "      <th>timestamp</th>\n",
       "      <th>experiment_id</th>\n",
       "    </tr>\n",
       "  </thead>\n",
       "  <tbody>\n",
       "    <tr>\n",
       "      <th>0</th>\n",
       "      <td>MainScreenAppear</td>\n",
       "      <td>384642128335787102</td>\n",
       "      <td>2019-07-31 14:15:35</td>\n",
       "      <td>246</td>\n",
       "    </tr>\n",
       "    <tr>\n",
       "      <th>1</th>\n",
       "      <td>MainScreenAppear</td>\n",
       "      <td>5924591427413218387</td>\n",
       "      <td>2019-07-31 14:15:42</td>\n",
       "      <td>247</td>\n",
       "    </tr>\n",
       "    <tr>\n",
       "      <th>2</th>\n",
       "      <td>PaymentScreenSuccessful</td>\n",
       "      <td>3001657979204168225</td>\n",
       "      <td>2019-07-31 14:15:57</td>\n",
       "      <td>248</td>\n",
       "    </tr>\n",
       "    <tr>\n",
       "      <th>3</th>\n",
       "      <td>CartScreenAppear</td>\n",
       "      <td>3001657979204168225</td>\n",
       "      <td>2019-07-31 14:15:57</td>\n",
       "      <td>248</td>\n",
       "    </tr>\n",
       "    <tr>\n",
       "      <th>4</th>\n",
       "      <td>MainScreenAppear</td>\n",
       "      <td>3773293147331066460</td>\n",
       "      <td>2019-07-31 14:16:01</td>\n",
       "      <td>248</td>\n",
       "    </tr>\n",
       "  </tbody>\n",
       "</table>\n",
       "</div>"
      ],
      "text/plain": [
       "                event_name              user_id           timestamp  \\\n",
       "0         MainScreenAppear   384642128335787102 2019-07-31 14:15:35   \n",
       "1         MainScreenAppear  5924591427413218387 2019-07-31 14:15:42   \n",
       "2  PaymentScreenSuccessful  3001657979204168225 2019-07-31 14:15:57   \n",
       "3         CartScreenAppear  3001657979204168225 2019-07-31 14:15:57   \n",
       "4         MainScreenAppear  3773293147331066460 2019-07-31 14:16:01   \n",
       "\n",
       "   experiment_id  \n",
       "0            246  \n",
       "1            247  \n",
       "2            248  \n",
       "3            248  \n",
       "4            248  "
      ]
     },
     "execution_count": 304,
     "metadata": {},
     "output_type": "execute_result"
    }
   ],
   "source": [
    "data = new.reset_index(drop=True).copy()\n",
    "data.head()"
   ]
  },
  {
   "cell_type": "code",
   "execution_count": 305,
   "metadata": {},
   "outputs": [
    {
     "name": "stdout",
     "output_type": "stream",
     "text": [
      "0\n"
     ]
    },
    {
     "data": {
      "text/plain": [
       "(241657, 243713, 99.16)"
      ]
     },
     "execution_count": 305,
     "metadata": {},
     "output_type": "execute_result"
    }
   ],
   "source": [
    "#sanity check\n",
    "print(data.isnull().sum().sum())\n",
    "len(data), len(df), round(len(data) / len(df) * 100, 2)"
   ]
  },
  {
   "cell_type": "markdown",
   "metadata": {},
   "source": [
    "Now, based on the graph, let's check out the distribution again. We expect it to have shorten.\n"
   ]
  },
  {
   "cell_type": "code",
   "execution_count": 306,
   "metadata": {},
   "outputs": [],
   "source": [
    "#group by users and obtain their total event count (here event_name is a dummy variable)\n",
    "eventUser_count_ = data.groupby('user_id').agg({'event_name':\n",
    "                                             'count'})['event_name']"
   ]
  },
  {
   "cell_type": "code",
   "execution_count": 307,
   "metadata": {},
   "outputs": [],
   "source": [
    "days =7"
   ]
  },
  {
   "cell_type": "code",
   "execution_count": 308,
   "metadata": {
    "scrolled": false
   },
   "outputs": [
    {
     "data": {
      "image/png": "[encoded data removed]",
      "text/plain": [
       "<Figure size 720x360 with 1 Axes>"
      ]
     },
     "metadata": {
      "needs_background": "light"
     },
     "output_type": "display_data"
    }
   ],
   "source": [
    "ax = eventUser_count.apply(lambda x: (x/days)).plot.box(figsize=(10, 5), vert=False)\n",
    "plt.annotate(\"100 Logged Events Per Day!\",\n",
    "             xy=(100, 1),\n",
    "             xytext=(70, 1.25),\n",
    "             fontweight='bold',\n",
    "             fontsize=13,\n",
    "             arrowprops=dict(arrowstyle=\"fancy\"))\n",
    "ax.set_yticklabels([])\n",
    "custom_graph('x', 13, 'Event Count', '', 'Events Per Unique User by Day', 18, 10)"
   ]
  },
  {
   "cell_type": "markdown",
   "metadata": {},
   "source": [
    "Interestingly enough, unique users still logged an erroneous amount of events per day, some over 100 per day. So given the chart and known quantiles (95%-89, 99%-200), we'll be more conservative and filter at the 95.8% of user. This % was chosen given the median (20) which is on the extreme start of the graph."
   ]
  },
  {
   "cell_type": "code",
   "execution_count": 309,
   "metadata": {},
   "outputs": [
    {
     "data": {
      "text/plain": [
       "(3.4750952380952747, 583.8160000000062)"
      ]
     },
     "execution_count": 309,
     "metadata": {},
     "output_type": "execute_result"
    }
   ],
   "source": [
    "eventUser_count_.quantile(.998) / (7 * 24), eventUser_count_.quantile(.998)"
   ]
  },
  {
   "cell_type": "code",
   "execution_count": 310,
   "metadata": {},
   "outputs": [
    {
     "data": {
      "text/plain": [
       "[197027893265565660,\n",
       " 1055544042902443290,\n",
       " 1100007125648169445,\n",
       " 1754140665440434215,\n",
       " 1989685320445148348,\n",
       " 2305766456715991733,\n",
       " 3337471580007169353,\n",
       " 3521696259961091617,\n",
       " 3610536745613892312,\n",
       " 4623191541214045580,\n",
       " 4713748699910253089,\n",
       " 5996739817823449506,\n",
       " 6304868067479728361,\n",
       " 6932517045703054087,\n",
       " 7738058666231999878,\n",
       " 8118046800480174342]"
      ]
     },
     "execution_count": 310,
     "metadata": {},
     "output_type": "execute_result"
    }
   ],
   "source": [
    "user_Over580_sessions = list(\n",
    "    eventUser_count_[eventUser_count_ > eventUser_count_.quantile(.998)].index)\n",
    "user_Over580_sessions"
   ]
  },
  {
   "cell_type": "code",
   "execution_count": 311,
   "metadata": {},
   "outputs": [
    {
     "data": {
      "text/plain": [
       "(7.130354179684428, 16, 241657)"
      ]
     },
     "execution_count": 311,
     "metadata": {},
     "output_type": "execute_result"
    }
   ],
   "source": [
    "Users_Over580_sessions = data.query(\"user_id in @user_Over580_sessions\")\n",
    "Useroutlier_index = list(Users_Over580_sessions['user_id'].unique())\n",
    "\n",
    "(len(Users_Over580_sessions) /\n",
    " len(data)) * 100, Users_Over580_sessions['user_id'].nunique(), len(data)"
   ]
  },
  {
   "cell_type": "markdown",
   "metadata": {},
   "source": [
    "16 users were responsible for 7% of the 241k recorded log events. This may impact the results later and therefore will be useful in the hypothesis test. This information will also be shared with a \"hypothetical\" collegaue in a later email.\n"
   ]
  },
  {
   "cell_type": "markdown",
   "metadata": {},
   "source": [
    "Withholding outliers and using the median, a typical user will have a total of 16 recorded log events in a given week."
   ]
  },
  {
   "cell_type": "markdown",
   "metadata": {},
   "source": [
    "## Datetime type conversions"
   ]
  },
  {
   "cell_type": "markdown",
   "metadata": {},
   "source": [
    "Based on the time, we'll create new columns containing: day, hour, and day hour only."
   ]
  },
  {
   "cell_type": "code",
   "execution_count": 312,
   "metadata": {},
   "outputs": [
    {
     "name": "stderr",
     "output_type": "stream",
     "text": [
      "C:\\Users\\garci\\Anaconda3\\lib\\site-packages\\ipykernel_launcher.py:7: SettingWithCopyWarning:\n",
      "\n",
      "\n",
      "A value is trying to be set on a copy of a slice from a DataFrame.\n",
      "Try using .loc[row_indexer,col_indexer] = value instead\n",
      "\n",
      "See the caveats in the documentation: https://pandas.pydata.org/pandas-docs/stable/user_guide/indexing.html#returning-a-view-versus-a-copy\n",
      "\n",
      "C:\\Users\\garci\\Anaconda3\\lib\\site-packages\\ipykernel_launcher.py:8: SettingWithCopyWarning:\n",
      "\n",
      "\n",
      "A value is trying to be set on a copy of a slice from a DataFrame.\n",
      "Try using .loc[row_indexer,col_indexer] = value instead\n",
      "\n",
      "See the caveats in the documentation: https://pandas.pydata.org/pandas-docs/stable/user_guide/indexing.html#returning-a-view-versus-a-copy\n",
      "\n",
      "C:\\Users\\garci\\Anaconda3\\lib\\site-packages\\ipykernel_launcher.py:11: SettingWithCopyWarning:\n",
      "\n",
      "\n",
      "A value is trying to be set on a copy of a slice from a DataFrame.\n",
      "Try using .loc[row_indexer,col_indexer] = value instead\n",
      "\n",
      "See the caveats in the documentation: https://pandas.pydata.org/pandas-docs/stable/user_guide/indexing.html#returning-a-view-versus-a-copy\n",
      "\n"
     ]
    }
   ],
   "source": [
    "#day and hour of interest givent the 7 day timespan\n",
    "data['day'] = data['timestamp'].dt.date\n",
    "data['hour'] = data['timestamp'].dt.hour\n",
    "data['day_hour'] = pd.to_datetime(data['day']) + pd.to_timedelta(data.hour,\n",
    "                                                                 unit='h')\n",
    "\n",
    "Users_Over580_sessions['day'] = Users_Over580_sessions['timestamp'].dt.date\n",
    "Users_Over580_sessions['hour'] = Users_Over580_sessions['timestamp'].dt.hour\n",
    "Users_Over580_sessions['day_hour'] = pd.to_datetime(\n",
    "    Users_Over580_sessions['day']) + pd.to_timedelta(\n",
    "        Users_Over580_sessions.hour, unit='h')"
   ]
  },
  {
   "cell_type": "code",
   "execution_count": 313,
   "metadata": {},
   "outputs": [
    {
     "name": "stdout",
     "output_type": "stream",
     "text": [
      "          day  hour            day_hour\n",
      "0  2019-07-31    14 2019-07-31 14:00:00\n",
      "1  2019-07-31    14 2019-07-31 14:00:00\n",
      "2  2019-07-31    14 2019-07-31 14:00:00\n",
      "3  2019-07-31    14 2019-07-31 14:00:00\n",
      "4  2019-07-31    14 2019-07-31 14:00:00\n",
      "\n",
      "             day  hour            day_hour\n",
      "1573  2019-07-31    20 2019-07-31 20:00:00\n",
      "1574  2019-07-31    20 2019-07-31 20:00:00\n",
      "1592  2019-07-31    20 2019-07-31 20:00:00\n",
      "2442  2019-07-31    21 2019-07-31 21:00:00\n",
      "2451  2019-07-31    21 2019-07-31 21:00:00\n"
     ]
    }
   ],
   "source": [
    "print(data[['day','hour','day_hour']].head())\n",
    "print()\n",
    "print(Users_Over580_sessions[['day','hour','day_hour']].head())"
   ]
  },
  {
   "cell_type": "markdown",
   "metadata": {},
   "source": [
    "## Unique Users\n",
    "Making sure unique users are placed into ONE experimental group."
   ]
  },
  {
   "cell_type": "code",
   "execution_count": 314,
   "metadata": {},
   "outputs": [
    {
     "data": {
      "text/plain": [
       "Series([], dtype: object)"
      ]
     },
     "execution_count": 314,
     "metadata": {},
     "output_type": "execute_result"
    }
   ],
   "source": [
    "#unique user id\n",
    "unique_users = data.groupby(['user_id'])\n",
    "\n",
    "#users and their unique experiment(s)\n",
    "users_group = unique_users.apply(lambda x: x['experiment_id'].unique())\n",
    "\n",
    "#if user contains more than one experimental group print it out\n",
    "users_group[users_group.apply(lambda x: len(x)) > 1]"
   ]
  },
  {
   "cell_type": "markdown",
   "metadata": {},
   "source": [
    "Nice, all users were placed into one experimental group."
   ]
  },
  {
   "cell_type": "markdown",
   "metadata": {},
   "source": [
    "Lastly, we'll check for the unique users per experimental group to ensure that the share is roughly the same across the experimental groups."
   ]
  },
  {
   "cell_type": "code",
   "execution_count": 315,
   "metadata": {},
   "outputs": [],
   "source": [
    "proportion_experiment = data.groupby(['experiment_id']).agg({\n",
    "    'user_id':\n",
    "    'nunique'\n",
    "}).divide(\n",
    "    data['user_id'].nunique()) "
   ]
  },
  {
   "cell_type": "code",
   "execution_count": 316,
   "metadata": {
    "scrolled": true
   },
   "outputs": [
    {
     "data": {
      "image/png": "[encoded data removed]",
      "text/plain": [
       "<Figure size 432x360 with 1 Axes>"
      ]
     },
     "metadata": {},
     "output_type": "display_data"
    }
   ],
   "source": [
    "fig, ax = plt.subplots(figsize=(6, 5), subplot_kw=dict(aspect=\"equal\"))\n",
    "\n",
    "explode = (0.05, 0.05, 0.05)\n",
    "patches, texts, autotexts = plt.pie(\n",
    "    proportion_experiment['user_id'],\n",
    "    shadow=True,\n",
    "    colors=['#ff9999', '#66b3ff', 'papayawhip'],\n",
    "    labels=proportion_experiment.index,\n",
    "    autopct='%1.1f%%',\n",
    "    textprops={\n",
    "        'fontsize': 18,\n",
    "        'fontweight': 'bold'\n",
    "    },\n",
    "    wedgeprops=dict(width=0.7),\n",
    "    explode=explode,\n",
    "    startangle=90,\n",
    "    pctdistance=0.80,\n",
    "    radius=1.5)\n",
    "\n",
    "for text in autotexts:\n",
    "    text.set_fontsize(15)\n",
    "    text.set_color('#43464b')\n",
    "plt.title(\"Unique Users Per Experiment Group\",\n",
    "          pad=60,\n",
    "          size=23,\n",
    "          x=.5,\n",
    "          color='darkslategray',\n",
    "          fontname='sans-serif')\n",
    "plt.tight_layout()\n",
    "plt.show()"
   ]
  },
  {
   "cell_type": "markdown",
   "metadata": {},
   "source": [
    "Share of unique users per experimental group are evenly distributed."
   ]
  },
  {
   "cell_type": "code",
   "execution_count": 317,
   "metadata": {},
   "outputs": [
    {
     "data": {
      "text/html": [
       "<div>\n",
       "<style scoped>\n",
       "    .dataframe tbody tr th:only-of-type {\n",
       "        vertical-align: middle;\n",
       "    }\n",
       "\n",
       "    .dataframe tbody tr th {\n",
       "        vertical-align: top;\n",
       "    }\n",
       "\n",
       "    .dataframe thead th {\n",
       "        text-align: right;\n",
       "    }\n",
       "</style>\n",
       "<table border=\"1\" class=\"dataframe\">\n",
       "  <thead>\n",
       "    <tr style=\"text-align: right;\">\n",
       "      <th></th>\n",
       "      <th>user_id</th>\n",
       "    </tr>\n",
       "    <tr>\n",
       "      <th>experiment_id</th>\n",
       "      <th></th>\n",
       "    </tr>\n",
       "  </thead>\n",
       "  <tbody>\n",
       "    <tr>\n",
       "      <th>246</th>\n",
       "      <td>0.329530</td>\n",
       "    </tr>\n",
       "    <tr>\n",
       "      <th>247</th>\n",
       "      <td>0.333908</td>\n",
       "    </tr>\n",
       "    <tr>\n",
       "      <th>248</th>\n",
       "      <td>0.336561</td>\n",
       "    </tr>\n",
       "  </tbody>\n",
       "</table>\n",
       "</div>"
      ],
      "text/plain": [
       "                user_id\n",
       "experiment_id          \n",
       "246            0.329530\n",
       "247            0.333908\n",
       "248            0.336561"
      ]
     },
     "execution_count": 317,
     "metadata": {},
     "output_type": "execute_result"
    }
   ],
   "source": [
    "data.groupby(['experiment_id']).agg({\n",
    "        'user_id': 'nunique'\n",
    "    }).apply(lambda x: x/x.sum())"
   ]
  },
  {
   "cell_type": "markdown",
   "metadata": {},
   "source": [
    "Share of unique users per experimental group are within 1% and as such, we can safely call them  evenly distributed. "
   ]
  },
  {
   "cell_type": "code",
   "execution_count": 318,
   "metadata": {},
   "outputs": [
    {
     "data": {
      "text/html": [
       "<div>\n",
       "<style scoped>\n",
       "    .dataframe tbody tr th:only-of-type {\n",
       "        vertical-align: middle;\n",
       "    }\n",
       "\n",
       "    .dataframe tbody tr th {\n",
       "        vertical-align: top;\n",
       "    }\n",
       "\n",
       "    .dataframe thead th {\n",
       "        text-align: right;\n",
       "    }\n",
       "</style>\n",
       "<table border=\"1\" class=\"dataframe\">\n",
       "  <thead>\n",
       "    <tr style=\"text-align: right;\">\n",
       "      <th></th>\n",
       "      <th>user_id</th>\n",
       "    </tr>\n",
       "    <tr>\n",
       "      <th>experiment_id</th>\n",
       "      <th></th>\n",
       "    </tr>\n",
       "  </thead>\n",
       "  <tbody>\n",
       "    <tr>\n",
       "      <th>246</th>\n",
       "      <td>0.329567</td>\n",
       "    </tr>\n",
       "    <tr>\n",
       "      <th>247</th>\n",
       "      <td>0.334220</td>\n",
       "    </tr>\n",
       "    <tr>\n",
       "      <th>248</th>\n",
       "      <td>0.336214</td>\n",
       "    </tr>\n",
       "  </tbody>\n",
       "</table>\n",
       "</div>"
      ],
      "text/plain": [
       "                user_id\n",
       "experiment_id          \n",
       "246            0.329567\n",
       "247            0.334220\n",
       "248            0.336214"
      ]
     },
     "execution_count": 318,
     "metadata": {},
     "output_type": "execute_result"
    }
   ],
   "source": [
    "data.query(\"user_id not in @Useroutlier_index\").groupby(['experiment_id']).agg(\n",
    "    {\n",
    "        'user_id': 'nunique'\n",
    "    }).apply(lambda x: x / x.sum())"
   ]
  },
  {
   "cell_type": "markdown",
   "metadata": {},
   "source": [
    "Withholding outliers, range amongst the three experimental groups remain within 1% from each other."
   ]
  },
  {
   "cell_type": "markdown",
   "metadata": {},
   "source": [
    "# Sales Funnel"
   ]
  },
  {
   "cell_type": "markdown",
   "metadata": {},
   "source": [
    "Discover potential areas of improvement in terms of conversion rates (key metric in this project)."
   ]
  },
  {
   "cell_type": "code",
   "execution_count": 319,
   "metadata": {},
   "outputs": [
    {
     "data": {
      "image/png": "[encoded data removed]",
      "text/plain": [
       "<Figure size 1080x432 with 1 Axes>"
      ]
     },
     "metadata": {
      "needs_background": "light"
     },
     "output_type": "display_data"
    }
   ],
   "source": [
    "ax = (data['event_name'].value_counts(normalize=True).sort_values().plot.barh(\n",
    "    legend=False, stacked=True, width=.9, figsize=(15, 6), alpha=.8))\n",
    "\n",
    "ax.xaxis.set_major_formatter(ticker.PercentFormatter(1))\n",
    "custom_graph('x', 13, 'Percent', '', \"Event Proportion\", 20, 15)\n",
    "\n",
    "plt.show()\n",
    "# worth it"
   ]
  },
  {
   "cell_type": "markdown",
   "metadata": {},
   "source": [
    "Starting of with the share of event types, we can see that in descending order, they follow a logical path (from main scree to payment screen). However, the tutorial event here seems out of place as it's not as trumped by the payment success screen--indicating an out of place event.\n"
   ]
  },
  {
   "cell_type": "code",
   "execution_count": 320,
   "metadata": {},
   "outputs": [
    {
     "data": {
      "image/png": "[encoded data removed]",
      "text/plain": [
       "<Figure size 792x288 with 1 Axes>"
      ]
     },
     "metadata": {
      "needs_background": "light"
     },
     "output_type": "display_data"
    }
   ],
   "source": [
    "ax = data.groupby(['event_name']).agg({\n",
    "    'user_id': 'nunique'\n",
    "}).sort_values('user_id', ascending=False).div(\n",
    "    data['user_id'].nunique()).plot.bar(rot=0, figsize=(11, 4), legend=False,alpha=.7)\n",
    "ax.yaxis.set_major_formatter(ticker.PercentFormatter(1))\n",
    "plt.annotate(\"Beginning Event\",\n",
    "             xy=(.2, .8),\n",
    "             xytext=(.5, .85),\n",
    "             fontweight='bold',\n",
    "             fontsize=13,\n",
    "             arrowprops=dict(arrowstyle=\"fancy\"))\n",
    "plt.grid(axis='y', alpha=.3)\n",
    "custom_graph('y', 13, 'Event Name', 'Percent',\n",
    "             'Unique User Proportion Per Event', 20, 15,grid=False)"
   ]
  },
  {
   "cell_type": "markdown",
   "metadata": {},
   "source": [
    "Around 98% of unique users began the first event while roughly 11% went through the tutorial event. In reflecting about the goal of this project, we'll drop tutorial events as it doesn't seem to be related to the current sales funnel; share of tutorial should have been vastly greater given that it's often one of the first event, not the last, a user would interact with. We'll also be dropping users who don't have a recorded event in the first stage (\"MainScreenAppear\") since they probably came from the past dates that we dropped earlier.\n",
    "\n",
    "The sales funnel will be the following: (1) Main screen appears (2) offer screen appears (3)cart screen appears (4) payment screen success."
   ]
  },
  {
   "cell_type": "code",
   "execution_count": 321,
   "metadata": {},
   "outputs": [
    {
     "name": "stdout",
     "output_type": "stream",
     "text": [
      "Dropped: 1009 \n",
      " % Kept: 99.58246605726298\n"
     ]
    },
    {
     "data": {
      "text/plain": [
       "MainScreenAppear           117853\n",
       "OffersScreenAppear          46514\n",
       "CartScreenAppear            42336\n",
       "PaymentScreenSuccessful     33945\n",
       "Name: event_name, dtype: int64"
      ]
     },
     "execution_count": 321,
     "metadata": {},
     "output_type": "execute_result"
    }
   ],
   "source": [
    "current_len = len(data)\n",
    "data = data.query(\"event_name != 'Tutorial'\").reset_index(drop=True)\n",
    "print('Dropped:', current_len - len(data), '\\n', '% Kept:',\n",
    "      len(data) / current_len*100)\n",
    "data['event_name'].value_counts()"
   ]
  },
  {
   "cell_type": "code",
   "execution_count": 322,
   "metadata": {},
   "outputs": [
    {
     "name": "stdout",
     "output_type": "stream",
     "text": [
      "Dropped: 3 \n",
      " % Kept: 99.98258951889038\n"
     ]
    },
    {
     "data": {
      "text/plain": [
       "CartScreenAppear           7651\n",
       "PaymentScreenSuccessful    7200\n",
       "OffersScreenAppear         1528\n",
       "MainScreenAppear            849\n",
       "Name: event_name, dtype: int64"
      ]
     },
     "execution_count": 322,
     "metadata": {},
     "output_type": "execute_result"
    }
   ],
   "source": [
    "#dropping from outlier dataset as well\n",
    "current_len = len(Users_Over580_sessions)\n",
    "\n",
    "Users_Over580_sessions = Users_Over580_sessions.query(\n",
    "    \"event_name != 'Tutorial'\").reset_index(drop=True)\n",
    "print('Dropped:', current_len - len(Users_Over580_sessions), '\\n', '% Kept:',\n",
    "      len(Users_Over580_sessions) / current_len * 100)\n",
    "Users_Over580_sessions['event_name'].value_counts()"
   ]
  },
  {
   "cell_type": "markdown",
   "metadata": {},
   "source": [
    "The data DF here was the only one containing rows with tutorial events (1,009 total)--relatively small % dropped: .99%. \n",
    "\n",
    "What's interesting to see is that unique users who had more than 580 sessions for the week, overwhelmingly have events logged in the cart and payment screen. Logically, per the previous chart, this doesn't make sense. Another possible explanation could be that the users in the data come from dates that were filtered out previously. This will be also be added to the report as it seems like a technical issues."
   ]
  },
  {
   "cell_type": "code",
   "execution_count": 323,
   "metadata": {},
   "outputs": [
    {
     "data": {
      "text/plain": [
       "CartScreenAppear           0.444103\n",
       "PaymentScreenSuccessful    0.417924\n",
       "OffersScreenAppear         0.088693\n",
       "MainScreenAppear           0.049280\n",
       "Name: event_name, dtype: float64"
      ]
     },
     "execution_count": 323,
     "metadata": {},
     "output_type": "execute_result"
    }
   ],
   "source": [
    "Users_Over580_sessions['event_name'].value_counts(normalize=True)"
   ]
  },
  {
   "cell_type": "markdown",
   "metadata": {},
   "source": [
    "Now for the last cleaning step."
   ]
  },
  {
   "cell_type": "code",
   "execution_count": 324,
   "metadata": {},
   "outputs": [
    {
     "name": "stdout",
     "output_type": "stream",
     "text": [
      "\t\t\tShare of rows to be dropped:\n",
      "Unclean DF\n",
      "1.0833250224394135\n"
     ]
    }
   ],
   "source": [
    "user_Withfirst_event = list(\n",
    "    data.query(\"event_name == 'MainScreenAppear'\")['user_id'].unique())\n",
    "\n",
    "print('\\t\\t\\tShare of rows to be dropped:')\n",
    "print('Unclean DF')\n",
    "print(\n",
    "    len(data.query(\"user_id not in @user_Withfirst_event\")['experiment_id']) /\n",
    "    len(data) * 100)"
   ]
  },
  {
   "cell_type": "markdown",
   "metadata": {},
   "source": [
    "The % printed make sense as per the graph; most of the users had at least one recorded event in the first stage (>98.8%). We'll go ahead and drop those who didn't."
   ]
  },
  {
   "cell_type": "code",
   "execution_count": 325,
   "metadata": {},
   "outputs": [],
   "source": [
    "data = data.query(\"user_id in @user_Withfirst_event\")"
   ]
  },
  {
   "cell_type": "code",
   "execution_count": 326,
   "metadata": {},
   "outputs": [
    {
     "name": "stdout",
     "output_type": "stream",
     "text": [
      "                user_id\n",
      "experiment_id          \n",
      "246            0.330055\n",
      "247            0.333962\n",
      "248            0.335983\n"
     ]
    }
   ],
   "source": [
    "print(\n",
    "    data.groupby('experiment_id').agg({\n",
    "        'user_id': 'nunique'\n",
    "    }).divide(data['user_id'].nunique()))"
   ]
  },
  {
   "cell_type": "markdown",
   "metadata": {},
   "source": [
    "Unique users for both DF are evenly distributed amongst the experimental groups."
   ]
  },
  {
   "cell_type": "markdown",
   "metadata": {},
   "source": [
    "# Sales Funnel Conversion Rate"
   ]
  },
  {
   "cell_type": "markdown",
   "metadata": {},
   "source": [
    "Next, we'll use an event funnel to find the conversion rate relative to the previous stage."
   ]
  },
  {
   "cell_type": "markdown",
   "metadata": {},
   "source": [
    "### Note: noticed a potential error with time stamp"
   ]
  },
  {
   "cell_type": "code",
   "execution_count": 327,
   "metadata": {},
   "outputs": [
    {
     "data": {
      "text/html": [
       "<div>\n",
       "<style scoped>\n",
       "    .dataframe tbody tr th:only-of-type {\n",
       "        vertical-align: middle;\n",
       "    }\n",
       "\n",
       "    .dataframe tbody tr th {\n",
       "        vertical-align: top;\n",
       "    }\n",
       "\n",
       "    .dataframe thead th {\n",
       "        text-align: right;\n",
       "    }\n",
       "</style>\n",
       "<table border=\"1\" class=\"dataframe\">\n",
       "  <thead>\n",
       "    <tr style=\"text-align: right;\">\n",
       "      <th>event_name</th>\n",
       "      <th>MainScreenAppear</th>\n",
       "      <th>OffersScreenAppear</th>\n",
       "      <th>CartScreenAppear</th>\n",
       "      <th>PaymentScreenSuccessful</th>\n",
       "    </tr>\n",
       "    <tr>\n",
       "      <th>user_id</th>\n",
       "      <th></th>\n",
       "      <th></th>\n",
       "      <th></th>\n",
       "      <th></th>\n",
       "    </tr>\n",
       "  </thead>\n",
       "  <tbody>\n",
       "    <tr>\n",
       "      <th>6888746892508752</th>\n",
       "      <td>2019-08-06 07:06:34</td>\n",
       "      <td>NaT</td>\n",
       "      <td>NaT</td>\n",
       "      <td>NaT</td>\n",
       "    </tr>\n",
       "    <tr>\n",
       "      <th>6909561520679493</th>\n",
       "      <td>2019-08-06 11:52:54</td>\n",
       "      <td>2019-08-06 11:53:04</td>\n",
       "      <td>2019-08-06 11:52:58</td>\n",
       "      <td>2019-08-06 11:52:58</td>\n",
       "    </tr>\n",
       "    <tr>\n",
       "      <th>6922444491712477</th>\n",
       "      <td>2019-08-04 07:19:33</td>\n",
       "      <td>2019-08-04 07:19:46</td>\n",
       "      <td>2019-08-04 07:19:40</td>\n",
       "      <td>2019-08-04 07:19:40</td>\n",
       "    </tr>\n",
       "    <tr>\n",
       "      <th>7435777799948366</th>\n",
       "      <td>2019-08-05 01:06:34</td>\n",
       "      <td>NaT</td>\n",
       "      <td>NaT</td>\n",
       "      <td>NaT</td>\n",
       "    </tr>\n",
       "    <tr>\n",
       "      <th>7702139951469979</th>\n",
       "      <td>2019-07-31 21:29:54</td>\n",
       "      <td>2019-07-31 21:29:56</td>\n",
       "      <td>2019-08-02 07:28:45</td>\n",
       "      <td>2019-08-02 07:28:45</td>\n",
       "    </tr>\n",
       "  </tbody>\n",
       "</table>\n",
       "</div>"
      ],
      "text/plain": [
       "event_name          MainScreenAppear  OffersScreenAppear    CartScreenAppear  \\\n",
       "user_id                                                                        \n",
       "6888746892508752 2019-08-06 07:06:34                 NaT                 NaT   \n",
       "6909561520679493 2019-08-06 11:52:54 2019-08-06 11:53:04 2019-08-06 11:52:58   \n",
       "6922444491712477 2019-08-04 07:19:33 2019-08-04 07:19:46 2019-08-04 07:19:40   \n",
       "7435777799948366 2019-08-05 01:06:34                 NaT                 NaT   \n",
       "7702139951469979 2019-07-31 21:29:54 2019-07-31 21:29:56 2019-08-02 07:28:45   \n",
       "\n",
       "event_name       PaymentScreenSuccessful  \n",
       "user_id                                   \n",
       "6888746892508752                     NaT  \n",
       "6909561520679493     2019-08-06 11:52:58  \n",
       "6922444491712477     2019-08-04 07:19:40  \n",
       "7435777799948366                     NaT  \n",
       "7702139951469979     2019-08-02 07:28:45  "
      ]
     },
     "execution_count": 327,
     "metadata": {},
     "output_type": "execute_result"
    }
   ],
   "source": [
    "#for each user, find the time of the first occurrence of each event.\n",
    "users = data.pivot_table(index='user_id',\n",
    "                         columns='event_name',\n",
    "                         values='timestamp',\n",
    "                         aggfunc='min')\n",
    "\n",
    "#change order to follow the defined customer journey\n",
    "users = users[[\n",
    "    'MainScreenAppear', 'OffersScreenAppear', 'CartScreenAppear',\n",
    "    'PaymentScreenSuccessful'\n",
    "]]\n",
    "users.head()"
   ]
  },
  {
   "cell_type": "markdown",
   "metadata": {},
   "source": [
    "The columns contain the time each of the events first occurred. If the event didn't take place, its cell value is NaT.\n",
    "Now, notice for the second user that main screen appears before the offers screen whilst for the next user it doesn't (<b>see 2nd row</b>). Clearly, this may be an issue. (note, I went back and filtered out users who appeared before the 7 day cutoff and still got similar results). "
   ]
  },
  {
   "cell_type": "code",
   "execution_count": 328,
   "metadata": {},
   "outputs": [
    {
     "data": {
      "text/html": [
       "<div>\n",
       "<style scoped>\n",
       "    .dataframe tbody tr th:only-of-type {\n",
       "        vertical-align: middle;\n",
       "    }\n",
       "\n",
       "    .dataframe tbody tr th {\n",
       "        vertical-align: top;\n",
       "    }\n",
       "\n",
       "    .dataframe thead th {\n",
       "        text-align: right;\n",
       "    }\n",
       "</style>\n",
       "<table border=\"1\" class=\"dataframe\">\n",
       "  <thead>\n",
       "    <tr style=\"text-align: right;\">\n",
       "      <th>event_name</th>\n",
       "      <th>MainScreenAppear</th>\n",
       "      <th>OffersScreenAppear</th>\n",
       "      <th>CartScreenAppear</th>\n",
       "      <th>PaymentScreenSuccessful</th>\n",
       "    </tr>\n",
       "    <tr>\n",
       "      <th>user_id</th>\n",
       "      <th></th>\n",
       "      <th></th>\n",
       "      <th></th>\n",
       "      <th></th>\n",
       "    </tr>\n",
       "  </thead>\n",
       "  <tbody>\n",
       "    <tr>\n",
       "      <th>6888746892508752</th>\n",
       "      <td>2019-08-06 07:06:34</td>\n",
       "      <td>NaT</td>\n",
       "      <td>NaT</td>\n",
       "      <td>NaT</td>\n",
       "    </tr>\n",
       "    <tr>\n",
       "      <th>6909561520679493</th>\n",
       "      <td>2019-08-06 11:52:54</td>\n",
       "      <td>2019-08-06 11:53:04</td>\n",
       "      <td>2019-08-06 11:52:58</td>\n",
       "      <td>2019-08-06 11:52:58</td>\n",
       "    </tr>\n",
       "    <tr>\n",
       "      <th>6922444491712477</th>\n",
       "      <td>2019-08-04 07:19:33</td>\n",
       "      <td>2019-08-04 07:19:46</td>\n",
       "      <td>2019-08-04 07:19:40</td>\n",
       "      <td>2019-08-04 07:19:40</td>\n",
       "    </tr>\n",
       "    <tr>\n",
       "      <th>7435777799948366</th>\n",
       "      <td>2019-08-05 01:06:34</td>\n",
       "      <td>NaT</td>\n",
       "      <td>NaT</td>\n",
       "      <td>NaT</td>\n",
       "    </tr>\n",
       "    <tr>\n",
       "      <th>7702139951469979</th>\n",
       "      <td>2019-07-31 21:29:54</td>\n",
       "      <td>2019-07-31 21:29:56</td>\n",
       "      <td>2019-08-02 07:28:45</td>\n",
       "      <td>2019-08-02 07:28:45</td>\n",
       "    </tr>\n",
       "  </tbody>\n",
       "</table>\n",
       "</div>"
      ],
      "text/plain": [
       "event_name          MainScreenAppear  OffersScreenAppear    CartScreenAppear  \\\n",
       "user_id                                                                        \n",
       "6888746892508752 2019-08-06 07:06:34                 NaT                 NaT   \n",
       "6909561520679493 2019-08-06 11:52:54 2019-08-06 11:53:04 2019-08-06 11:52:58   \n",
       "6922444491712477 2019-08-04 07:19:33 2019-08-04 07:19:46 2019-08-04 07:19:40   \n",
       "7435777799948366 2019-08-05 01:06:34                 NaT                 NaT   \n",
       "7702139951469979 2019-07-31 21:29:54 2019-07-31 21:29:56 2019-08-02 07:28:45   \n",
       "\n",
       "event_name       PaymentScreenSuccessful  \n",
       "user_id                                   \n",
       "6888746892508752                     NaT  \n",
       "6909561520679493     2019-08-06 11:52:58  \n",
       "6922444491712477     2019-08-04 07:19:40  \n",
       "7435777799948366                     NaT  \n",
       "7702139951469979     2019-08-02 07:28:45  "
      ]
     },
     "execution_count": 328,
     "metadata": {},
     "output_type": "execute_result"
    }
   ],
   "source": [
    "#for each user, find the time of the first occurrence of each event.\n",
    "users_ = data.query(\"user_id not in @Useroutlier_index\").pivot_table(index='user_id',\n",
    "                         columns='event_name',\n",
    "                         values='timestamp',\n",
    "                         aggfunc='min')\n",
    "\n",
    "#change order to follow the defined customer journey\n",
    "users_ = users[[\n",
    "    'MainScreenAppear', 'OffersScreenAppear', 'CartScreenAppear',\n",
    "    'PaymentScreenSuccessful'\n",
    "]]\n",
    "users.head()"
   ]
  },
  {
   "cell_type": "markdown",
   "metadata": {},
   "source": [
    "Even after taking into account the outliers (of which events were centered in the later stages), the problem still holds (<b>see 2nd row</b>)."
   ]
  },
  {
   "cell_type": "markdown",
   "metadata": {},
   "source": [
    "Time difference in relation to the previous ow should all be positive. Let's check out which users (ourliers and non-outliers) do not follow a sequential order."
   ]
  },
  {
   "cell_type": "code",
   "execution_count": 329,
   "metadata": {},
   "outputs": [
    {
     "data": {
      "text/html": [
       "<div>\n",
       "<style scoped>\n",
       "    .dataframe tbody tr th:only-of-type {\n",
       "        vertical-align: middle;\n",
       "    }\n",
       "\n",
       "    .dataframe tbody tr th {\n",
       "        vertical-align: top;\n",
       "    }\n",
       "\n",
       "    .dataframe thead th {\n",
       "        text-align: right;\n",
       "    }\n",
       "</style>\n",
       "<table border=\"1\" class=\"dataframe\">\n",
       "  <thead>\n",
       "    <tr style=\"text-align: right;\">\n",
       "      <th>event_name</th>\n",
       "      <th>MainScreenAppear</th>\n",
       "      <th>OffersScreenAppear</th>\n",
       "      <th>CartScreenAppear</th>\n",
       "      <th>PaymentScreenSuccessful</th>\n",
       "    </tr>\n",
       "    <tr>\n",
       "      <th>user_id</th>\n",
       "      <th></th>\n",
       "      <th></th>\n",
       "      <th></th>\n",
       "      <th></th>\n",
       "    </tr>\n",
       "  </thead>\n",
       "  <tbody>\n",
       "    <tr>\n",
       "      <th>6888746892508752</th>\n",
       "      <td>NaT</td>\n",
       "      <td>NaT</td>\n",
       "      <td>NaT</td>\n",
       "      <td>NaT</td>\n",
       "    </tr>\n",
       "    <tr>\n",
       "      <th>7435777799948366</th>\n",
       "      <td>NaT</td>\n",
       "      <td>NaT</td>\n",
       "      <td>NaT</td>\n",
       "      <td>NaT</td>\n",
       "    </tr>\n",
       "    <tr>\n",
       "      <th>7702139951469979</th>\n",
       "      <td>NaT</td>\n",
       "      <td>0 days 00:00:02</td>\n",
       "      <td>1 days 09:58:49</td>\n",
       "      <td>00:00:00</td>\n",
       "    </tr>\n",
       "    <tr>\n",
       "      <th>8740973466195562</th>\n",
       "      <td>NaT</td>\n",
       "      <td>0 days 00:27:11</td>\n",
       "      <td>NaT</td>\n",
       "      <td>NaT</td>\n",
       "    </tr>\n",
       "    <tr>\n",
       "      <th>9841258664663090</th>\n",
       "      <td>NaT</td>\n",
       "      <td>0 days 00:01:43</td>\n",
       "      <td>0 days 00:02:33</td>\n",
       "      <td>07:05:12</td>\n",
       "    </tr>\n",
       "    <tr>\n",
       "      <th>...</th>\n",
       "      <td>...</td>\n",
       "      <td>...</td>\n",
       "      <td>...</td>\n",
       "      <td>...</td>\n",
       "    </tr>\n",
       "    <tr>\n",
       "      <th>9216094175241772920</th>\n",
       "      <td>NaT</td>\n",
       "      <td>NaT</td>\n",
       "      <td>NaT</td>\n",
       "      <td>NaT</td>\n",
       "    </tr>\n",
       "    <tr>\n",
       "      <th>9219463515465815368</th>\n",
       "      <td>NaT</td>\n",
       "      <td>1 days 11:22:31</td>\n",
       "      <td>0 days 00:00:43</td>\n",
       "      <td>00:02:36</td>\n",
       "    </tr>\n",
       "    <tr>\n",
       "      <th>9220879493065341500</th>\n",
       "      <td>NaT</td>\n",
       "      <td>0 days 00:00:12</td>\n",
       "      <td>0 days 00:00:16</td>\n",
       "      <td>NaT</td>\n",
       "    </tr>\n",
       "    <tr>\n",
       "      <th>9221926045299980007</th>\n",
       "      <td>NaT</td>\n",
       "      <td>NaT</td>\n",
       "      <td>NaT</td>\n",
       "      <td>NaT</td>\n",
       "    </tr>\n",
       "    <tr>\n",
       "      <th>9222603179720523844</th>\n",
       "      <td>NaT</td>\n",
       "      <td>NaT</td>\n",
       "      <td>NaT</td>\n",
       "      <td>NaT</td>\n",
       "    </tr>\n",
       "  </tbody>\n",
       "</table>\n",
       "<p>5277 rows × 4 columns</p>\n",
       "</div>"
      ],
      "text/plain": [
       "event_name          MainScreenAppear OffersScreenAppear CartScreenAppear  \\\n",
       "user_id                                                                    \n",
       "6888746892508752                 NaT                NaT              NaT   \n",
       "7435777799948366                 NaT                NaT              NaT   \n",
       "7702139951469979                 NaT    0 days 00:00:02  1 days 09:58:49   \n",
       "8740973466195562                 NaT    0 days 00:27:11              NaT   \n",
       "9841258664663090                 NaT    0 days 00:01:43  0 days 00:02:33   \n",
       "...                              ...                ...              ...   \n",
       "9216094175241772920              NaT                NaT              NaT   \n",
       "9219463515465815368              NaT    1 days 11:22:31  0 days 00:00:43   \n",
       "9220879493065341500              NaT    0 days 00:00:12  0 days 00:00:16   \n",
       "9221926045299980007              NaT                NaT              NaT   \n",
       "9222603179720523844              NaT                NaT              NaT   \n",
       "\n",
       "event_name          PaymentScreenSuccessful  \n",
       "user_id                                      \n",
       "6888746892508752                        NaT  \n",
       "7435777799948366                        NaT  \n",
       "7702139951469979                   00:00:00  \n",
       "8740973466195562                        NaT  \n",
       "9841258664663090                   07:05:12  \n",
       "...                                     ...  \n",
       "9216094175241772920                     NaT  \n",
       "9219463515465815368                00:02:36  \n",
       "9220879493065341500                     NaT  \n",
       "9221926045299980007                     NaT  \n",
       "9222603179720523844                     NaT  \n",
       "\n",
       "[5277 rows x 4 columns]"
      ]
     },
     "execution_count": 329,
     "metadata": {},
     "output_type": "execute_result"
    }
   ],
   "source": [
    "#get time difference (days in specific) if any row contains a (-) day then mark that row as false\n",
    "mask_timestamps = users.apply(\n",
    "    lambda x: False if any((x - x.shift()).dt.days < 0) else True, 1)\n",
    "\n",
    "#apply the mask to retrieve those with events that follow a sequential order \n",
    "#and then calculate the time differences again\n",
    "users_Normaltimestamps = users[mask_timestamps].apply(lambda x: x - x.shift(),\n",
    "                                                      1)\n",
    "users_Normaltimestamps"
   ]
  },
  {
   "cell_type": "code",
   "execution_count": 330,
   "metadata": {},
   "outputs": [
    {
     "data": {
      "text/plain": [
       "(0.7108985585342853, 2146)"
      ]
     },
     "execution_count": 330,
     "metadata": {},
     "output_type": "execute_result"
    }
   ],
   "source": [
    "len(users_Normaltimestamps) / len(\n",
    "    users), users.reset_index()['user_id'].nunique(\n",
    "    ) - users_Normaltimestamps.reset_index()['user_id'].nunique()"
   ]
  },
  {
   "cell_type": "markdown",
   "metadata": {},
   "source": [
    "So 2,146 users (~30%) have minimum dates that don't follow the sequential order of the journey map defined earlier. There are potentially many reasons for this but without knowing the context of the company it's hard to pinpoint the cause of this. Regardless, the users identified will also be included in a \"hypothetical\" email.\n",
    "\n",
    "So considering that users don't act linearly as well as the possibility of users to start in different sites (maybe an ad took user directly to offerscreen), then this is quite a complex task. I also noticed that some users had two events recorded had no time differences (ie. event was logged in at the exact second for two events-> see last column in row 3 of dataframe above for an example)."
   ]
  },
  {
   "cell_type": "markdown",
   "metadata": {},
   "source": [
    "Given this, ordering by the defined user journey map (mainscreen to payment), we'll rely on using the aggregate unique users per event to calculate their relative proportions to each other."
   ]
  },
  {
   "cell_type": "code",
   "execution_count": 331,
   "metadata": {},
   "outputs": [
    {
     "data": {
      "image/svg+xml": [
       "<svg class=\"main-svg\" xmlns=\"http://www.w3.org/2000/svg\" xmlns:xlink=\"http://www.w3.org/1999/xlink\" width=\"700\" height=\"450\" style=\"\" viewBox=\"0 0 700 450\"><rect x=\"0\" y=\"0\" width=\"700\" height=\"450\" style=\"fill: rgb(255, 255, 255); fill-opacity: 1;\"/><defs id=\"defs-f23742\"><g class=\"clips\"><clipPath id=\"clipf23742xyplot\" class=\"plotclip\"><rect width=\"369\" height=\"270\"/></clipPath><clipPath class=\"axesclip\" id=\"clipf23742x\"><rect x=\"251\" y=\"0\" width=\"369\" height=\"450\"/></clipPath><clipPath class=\"axesclip\" id=\"clipf23742y\"><rect x=\"0\" y=\"100\" width=\"700\" height=\"270\"/></clipPath><clipPath class=\"axesclip\" id=\"clipf23742xy\"><rect x=\"251\" y=\"100\" width=\"369\" height=\"270\"/></clipPath></g><g class=\"gradients\"/></defs><g class=\"bglayer\"><rect class=\"bg\" x=\"251\" y=\"100\" width=\"369\" height=\"270\" style=\"fill: rgb(229, 236, 246); fill-opacity: 1; stroke-width: 0;\"/></g><g class=\"layer-below\"><g class=\"imagelayer\"/><g class=\"shapelayer\"/></g><g class=\"cartesianlayer\"><g class=\"subplot xy\"><g class=\"layer-subplot\"><g class=\"shapelayer\"/><g class=\"imagelayer\"/></g><g class=\"gridlayer\"><g class=\"x\"/><g class=\"y\"><path class=\"ygrid crisp\" transform=\"translate(0,336.25)\" d=\"M251,0h369\" style=\"stroke: rgb(255, 255, 255); stroke-opacity: 1; stroke-width: 1px;\"/><path class=\"ygrid crisp\" transform=\"translate(0,268.75)\" d=\"M251,0h369\" style=\"stroke: rgb(255, 255, 255); stroke-opacity: 1; stroke-width: 1px;\"/><path class=\"ygrid crisp\" transform=\"translate(0,201.25)\" d=\"M251,0h369\" style=\"stroke: rgb(255, 255, 255); stroke-opacity: 1; stroke-width: 1px;\"/><path class=\"ygrid crisp\" transform=\"translate(0,133.75)\" d=\"M251,0h369\" style=\"stroke: rgb(255, 255, 255); stroke-opacity: 1; stroke-width: 1px;\"/></g></g><g class=\"zerolinelayer\"/><path class=\"xlines-below\"/><path class=\"ylines-below\"/><g class=\"overlines-below\"/><g class=\"xaxislayer-below\"/><g class=\"yaxislayer-below\"/><g class=\"overaxes-below\"/><g class=\"plot\" transform=\"translate(251, 100)\" clip-path=\"url('#clipf23742xyplot')\"><g class=\"funnellayer mlayer\"><g class=\"trace bars\" style=\"opacity: 0.7;\"><g class=\"regions\"><g class=\"region\"><path d=\"M18.45,60.75L84.17,74.25H284.83L350.55,60.75Z\" style=\"stroke-width: 0; fill: rgb(99, 110, 250); fill-opacity: 0.5;\"/></g><g class=\"region\"><path d=\"M84.17,128.25L49.88,141.75H319.12L284.83,128.25Z\" style=\"stroke-width: 0; fill: rgb(99, 110, 250); fill-opacity: 0.5;\"/></g><g class=\"region\"><path d=\"M49.88,195.75L27.31,209.25H341.69L319.12,195.75Z\" style=\"stroke-width: 0; fill: rgb(99, 110, 250); fill-opacity: 0.5;\"/></g><g class=\"region\"><path d=\"M0,0Z\" style=\"stroke-width: 0; fill: rgb(99, 110, 250); fill-opacity: 0.5;\"/></g></g><g class=\"points\"><g class=\"point\"><path d=\"M18.45,6.75V60.75H350.55V6.75Z\" style=\"vector-effect: non-scaling-stroke; fill: rgb(99, 110, 250); fill-opacity: 1; stroke: rgb(68, 68, 68); stroke-opacity: 1; stroke-width: 0px; opacity: 1;\"/><text class=\"bartext bartext-inside\" text-anchor=\"middle\" data-notex=\"1\" x=\"0\" y=\"0\" style=\"font-family: 'Courier New', monospace; font-size: 15px; fill: rgb(255, 255, 255); fill-opacity: 1; white-space: pre;\" transform=\"translate(184.5,37.75)\">100</text></g><g class=\"point\"><path d=\"M84.17,74.25V128.25H284.83V74.25Z\" style=\"vector-effect: non-scaling-stroke; fill: rgb(99, 110, 250); fill-opacity: 1; stroke: rgb(68, 68, 68); stroke-opacity: 1; stroke-width: 0px; opacity: 1;\"/><text class=\"bartext bartext-inside\" text-anchor=\"middle\" data-notex=\"1\" x=\"0\" y=\"0\" style=\"font-family: 'Courier New', monospace; font-size: 15px; fill: rgb(255, 255, 255); fill-opacity: 1; white-space: pre;\" transform=\"translate(184.5,105.25)\">60.42032</text></g><g class=\"point\"><path d=\"M49.88,141.75V195.75H319.12V141.75Z\" style=\"vector-effect: non-scaling-stroke; fill: rgb(99, 110, 250); fill-opacity: 1; stroke: rgb(68, 68, 68); stroke-opacity: 1; stroke-width: 0px; opacity: 1;\"/><text class=\"bartext bartext-inside\" text-anchor=\"middle\" data-notex=\"1\" x=\"0\" y=\"0\" style=\"font-family: 'Courier New', monospace; font-size: 15px; fill: rgb(255, 255, 255); fill-opacity: 1; white-space: pre;\" transform=\"translate(184.5,172.75)\">81.07023</text></g><g class=\"point\"><path d=\"M27.31,209.25V263.25H341.69V209.25Z\" style=\"vector-effect: non-scaling-stroke; fill: rgb(99, 110, 250); fill-opacity: 1; stroke: rgb(68, 68, 68); stroke-opacity: 1; stroke-width: 0px; opacity: 1;\"/><text class=\"bartext bartext-inside\" text-anchor=\"middle\" data-notex=\"1\" x=\"0\" y=\"0\" style=\"font-family: 'Courier New', monospace; font-size: 15px; fill: rgb(255, 255, 255); fill-opacity: 1; white-space: pre;\" transform=\"translate(184.5,240.25)\">94.66447</text></g></g></g></g></g><g class=\"overplot\"/><path class=\"xlines-above crisp\" d=\"M0,0\" style=\"fill: none;\"/><path class=\"ylines-above crisp\" d=\"M250.5,100V370\" style=\"fill: none; stroke-width: 1px; stroke: rgb(255, 255, 255); stroke-opacity: 1;\"/><g class=\"overlines-above\"/><g class=\"xaxislayer-above\"/><g class=\"yaxislayer-above\"><g class=\"ytick\"><text text-anchor=\"end\" x=\"247\" y=\"5.25\" transform=\"translate(0,336.25)\" style=\"font-family: 'Courier New', monospace; font-size: 15px; fill: rgb(42, 63, 95); fill-opacity: 1; white-space: pre;\">PaymentScreenSuccessful</text></g><g class=\"ytick\"><text text-anchor=\"end\" x=\"247\" y=\"5.25\" transform=\"translate(0,268.75)\" style=\"font-family: 'Courier New', monospace; font-size: 15px; fill: rgb(42, 63, 95); fill-opacity: 1; white-space: pre;\">CartScreenAppear</text></g><g class=\"ytick\"><text text-anchor=\"end\" x=\"247\" y=\"5.25\" transform=\"translate(0,201.25)\" style=\"font-family: 'Courier New', monospace; font-size: 15px; fill: rgb(42, 63, 95); fill-opacity: 1; white-space: pre;\">OffersScreenAppear</text></g><g class=\"ytick\"><text text-anchor=\"end\" x=\"247\" y=\"5.25\" transform=\"translate(0,133.75)\" style=\"font-family: 'Courier New', monospace; font-size: 15px; fill: rgb(42, 63, 95); fill-opacity: 1; white-space: pre;\">MainScreenAppear</text></g></g><g class=\"overaxes-above\"/></g></g><g class=\"polarlayer\"/><g class=\"ternarylayer\"/><g class=\"geolayer\"/><g class=\"funnelarealayer\"/><g class=\"pielayer\"/><g class=\"treemaplayer\"/><g class=\"sunburstlayer\"/><g class=\"glimages\"/><defs id=\"topdefs-f23742\"><g class=\"clips\"/></defs><g class=\"layer-above\"><g class=\"imagelayer\"/><g class=\"shapelayer\"/></g><g class=\"infolayer\"><g class=\"g-gtitle\"><text class=\"gtitle\" x=\"700\" y=\"58.5\" text-anchor=\"end\" dy=\"0.7em\" style=\"font-family: 'Courier New', monospace; font-size: 25px; fill: rgb(42, 63, 95); opacity: 1; font-weight: normal; white-space: pre;\">Unique User Relative Ratio to The Next Stage</text></g><g class=\"g-ytitle\"/></g></svg>"
      ]
     },
     "metadata": {},
     "output_type": "display_data"
    }
   ],
   "source": [
    "#total unique users per event (value count for each user)\n",
    "user_funnel = data.groupby('event_name').agg({\"user_id\":'nunique'}).sort_values('user_id',ascending=False).reset_index()\n",
    "user_funnel.columns = ['event_name', 'total_count']\n",
    "\n",
    "#share of users at current stage relative to previous stage\n",
    "user_funnel['user_conversion'] = user_funnel['total_count'].div(\n",
    "    user_funnel['total_count'].shift(1)).fillna(1) * 100\n",
    "\n",
    "fig = go.Figure()\n",
    "\n",
    "fig.add_trace(go.Funnel(\n",
    "                x=user_funnel['user_conversion'],\n",
    "                y=user_funnel['event_name'],\n",
    "                opacity=.7\n",
    "))\n",
    "fig.update_layout(title={\n",
    "    'text': 'Unique User Relative Ratio to The Next Stage',\n",
    "    'font': dict(family=\"Courier New, monospace\", size=25), \"x\":1,\"y\":.87\n",
    "},\n",
    "                  xaxis_title=\"\",\n",
    "                  yaxis_title=\"\",\n",
    "                  font=dict(\n",
    "                      family=\"Courier New, monospace\",\n",
    "                      size=15,\n",
    "                  ))\n",
    "\n",
    "fig.show(\"svg\")"
   ]
  },
  {
   "cell_type": "markdown",
   "metadata": {},
   "source": [
    "On the aggregate level, roughly 40% of unique users who enter the main screen don't proceed to the next stage, offer screen. However, around 81% of users in the offer screen continue to the next stage screen and 94% of them go on to successfully make their purchase. Let's continue exploring."
   ]
  },
  {
   "cell_type": "code",
   "execution_count": 332,
   "metadata": {},
   "outputs": [
    {
     "data": {
      "text/plain": [
       "0    100.000000\n",
       "1     60.420315\n",
       "2     48.982891\n",
       "3     46.369392\n",
       "Name: total_count, dtype: float64"
      ]
     },
     "execution_count": 332,
     "metadata": {},
     "output_type": "execute_result"
    }
   ],
   "source": [
    "user_funnel['total_count'].divide(user_funnel['total_count'].max())*100"
   ]
  },
  {
   "cell_type": "code",
   "execution_count": 333,
   "metadata": {},
   "outputs": [
    {
     "data": {
      "text/plain": [
       "7423"
      ]
     },
     "execution_count": 333,
     "metadata": {},
     "output_type": "execute_result"
    }
   ],
   "source": [
    "total_Uniqueusers = data['user_id'].nunique()\n",
    "total_Uniqueusers"
   ]
  },
  {
   "cell_type": "code",
   "execution_count": 334,
   "metadata": {},
   "outputs": [
    {
     "data": {
      "image/svg+xml": [
       "<svg class=\"main-svg\" xmlns=\"http://www.w3.org/2000/svg\" xmlns:xlink=\"http://www.w3.org/1999/xlink\" width=\"700\" height=\"450\" style=\"\" viewBox=\"0 0 700 450\"><rect x=\"0\" y=\"0\" width=\"700\" height=\"450\" style=\"fill: rgb(255, 255, 255); fill-opacity: 1;\"/><defs id=\"defs-f03da7\"><g class=\"clips\"><clipPath id=\"clipf03da7xyplot\" class=\"plotclip\"><rect width=\"355\" height=\"270\"/></clipPath><clipPath class=\"axesclip\" id=\"clipf03da7x\"><rect x=\"265\" y=\"0\" width=\"355\" height=\"450\"/></clipPath><clipPath class=\"axesclip\" id=\"clipf03da7y\"><rect x=\"0\" y=\"100\" width=\"700\" height=\"270\"/></clipPath><clipPath class=\"axesclip\" id=\"clipf03da7xy\"><rect x=\"265\" y=\"100\" width=\"355\" height=\"270\"/></clipPath></g><g class=\"gradients\"/></defs><g class=\"bglayer\"><rect class=\"bg\" x=\"265\" y=\"100\" width=\"355\" height=\"270\" style=\"fill: rgb(229, 236, 246); fill-opacity: 1; stroke-width: 0;\"/></g><g class=\"layer-below\"><g class=\"imagelayer\"/><g class=\"shapelayer\"/></g><g class=\"cartesianlayer\"><g class=\"subplot xy\"><g class=\"layer-subplot\"><g class=\"shapelayer\"/><g class=\"imagelayer\"/></g><g class=\"gridlayer\"><g class=\"x\"/><g class=\"y\"><path class=\"ygrid crisp\" transform=\"translate(0,336.25)\" d=\"M265,0h355\" style=\"stroke: rgb(255, 255, 255); stroke-opacity: 1; stroke-width: 1px;\"/><path class=\"ygrid crisp\" transform=\"translate(0,268.75)\" d=\"M265,0h355\" style=\"stroke: rgb(255, 255, 255); stroke-opacity: 1; stroke-width: 1px;\"/><path class=\"ygrid crisp\" transform=\"translate(0,201.25)\" d=\"M265,0h355\" style=\"stroke: rgb(255, 255, 255); stroke-opacity: 1; stroke-width: 1px;\"/><path class=\"ygrid crisp\" transform=\"translate(0,133.75)\" d=\"M265,0h355\" style=\"stroke: rgb(255, 255, 255); stroke-opacity: 1; stroke-width: 1px;\"/></g></g><g class=\"zerolinelayer\"/><path class=\"xlines-below\"/><path class=\"ylines-below\"/><g class=\"overlines-below\"/><g class=\"xaxislayer-below\"/><g class=\"yaxislayer-below\"/><g class=\"overaxes-below\"/><g class=\"plot\" transform=\"translate(265, 100)\" clip-path=\"url('#clipf03da7xyplot')\"><g class=\"funnellayer mlayer\"><g class=\"trace bars\" style=\"opacity: 0.7;\"><g class=\"regions\"><g class=\"region\"><path d=\"M17.75,60.75L80.98,74.25H274.02L337.25,60.75Z\" style=\"stroke-width: 0; fill: rgb(99, 110, 250); fill-opacity: 0.5;\"/></g><g class=\"region\"><path d=\"M80.98,128.25L99.25,141.75H255.75L274.02,128.25Z\" style=\"stroke-width: 0; fill: rgb(99, 110, 250); fill-opacity: 0.5;\"/></g><g class=\"region\"><path d=\"M99.25,195.75L103.42,209.25H251.58L255.75,195.75Z\" style=\"stroke-width: 0; fill: rgb(99, 110, 250); fill-opacity: 0.5;\"/></g><g class=\"region\"><path d=\"M0,0Z\" style=\"stroke-width: 0; fill: rgb(99, 110, 250); fill-opacity: 0.5;\"/></g></g><g class=\"points\"><g class=\"point\"><path d=\"M17.75,6.75V60.75H337.25V6.75Z\" style=\"vector-effect: non-scaling-stroke; fill: rgb(99, 110, 250); fill-opacity: 1; stroke: rgb(68, 68, 68); stroke-opacity: 1; stroke-width: 0px; opacity: 1;\"/><text class=\"bartext bartext-inside\" text-anchor=\"middle\" data-notex=\"1\" x=\"0\" y=\"0\" style=\"font-family: 'Courier New', monospace; font-size: 16px; fill: rgb(255, 255, 255); fill-opacity: 1; white-space: pre;\" transform=\"translate(177.5,38.0859375)\">100</text></g><g class=\"point\"><path d=\"M80.98,74.25V128.25H274.02V74.25Z\" style=\"vector-effect: non-scaling-stroke; fill: rgb(99, 110, 250); fill-opacity: 1; stroke: rgb(68, 68, 68); stroke-opacity: 1; stroke-width: 0px; opacity: 1;\"/><text class=\"bartext bartext-inside\" text-anchor=\"middle\" data-notex=\"1\" x=\"0\" y=\"0\" style=\"font-family: 'Courier New', monospace; font-size: 16px; fill: rgb(255, 255, 255); fill-opacity: 1; white-space: pre;\" transform=\"translate(177.5,105.5859375)\">60.42032</text></g><g class=\"point\"><path d=\"M99.25,141.75V195.75H255.75V141.75Z\" style=\"vector-effect: non-scaling-stroke; fill: rgb(99, 110, 250); fill-opacity: 1; stroke: rgb(68, 68, 68); stroke-opacity: 1; stroke-width: 0px; opacity: 1;\"/><text class=\"bartext bartext-inside\" text-anchor=\"middle\" data-notex=\"1\" x=\"0\" y=\"0\" style=\"font-family: 'Courier New', monospace; font-size: 16px; fill: rgb(255, 255, 255); fill-opacity: 1; white-space: pre;\" transform=\"translate(177.5,173.0859375)\">48.98289</text></g><g class=\"point\"><path d=\"M103.42,209.25V263.25H251.58V209.25Z\" style=\"vector-effect: non-scaling-stroke; fill: rgb(99, 110, 250); fill-opacity: 1; stroke: rgb(68, 68, 68); stroke-opacity: 1; stroke-width: 0px; opacity: 1;\"/><text class=\"bartext bartext-inside\" text-anchor=\"middle\" data-notex=\"1\" x=\"0\" y=\"0\" style=\"font-family: 'Courier New', monospace; font-size: 16px; fill: rgb(255, 255, 255); fill-opacity: 1; white-space: pre;\" transform=\"translate(177.5,240.5859375)\">46.36939</text></g></g></g></g></g><g class=\"overplot\"/><path class=\"xlines-above crisp\" d=\"M0,0\" style=\"fill: none;\"/><path class=\"ylines-above crisp\" d=\"M264.5,100V370\" style=\"fill: none; stroke-width: 1px; stroke: rgb(255, 255, 255); stroke-opacity: 1;\"/><g class=\"overlines-above\"/><g class=\"xaxislayer-above\"/><g class=\"yaxislayer-above\"><g class=\"ytick\"><text text-anchor=\"end\" x=\"260.8\" y=\"5.6\" transform=\"translate(0,336.25)\" style=\"font-family: 'Courier New', monospace; font-size: 16px; fill: rgb(42, 63, 95); fill-opacity: 1; white-space: pre;\">PaymentScreenSuccessful</text></g><g class=\"ytick\"><text text-anchor=\"end\" x=\"260.8\" y=\"5.6\" transform=\"translate(0,268.75)\" style=\"font-family: 'Courier New', monospace; font-size: 16px; fill: rgb(42, 63, 95); fill-opacity: 1; white-space: pre;\">CartScreenAppear</text></g><g class=\"ytick\"><text text-anchor=\"end\" x=\"260.8\" y=\"5.6\" transform=\"translate(0,201.25)\" style=\"font-family: 'Courier New', monospace; font-size: 16px; fill: rgb(42, 63, 95); fill-opacity: 1; white-space: pre;\">OffersScreenAppear</text></g><g class=\"ytick\"><text text-anchor=\"end\" x=\"260.8\" y=\"5.6\" transform=\"translate(0,133.75)\" style=\"font-family: 'Courier New', monospace; font-size: 16px; fill: rgb(42, 63, 95); fill-opacity: 1; white-space: pre;\">MainScreenAppear</text></g></g><g class=\"overaxes-above\"/></g></g><g class=\"polarlayer\"/><g class=\"ternarylayer\"/><g class=\"geolayer\"/><g class=\"funnelarealayer\"/><g class=\"pielayer\"/><g class=\"treemaplayer\"/><g class=\"sunburstlayer\"/><g class=\"glimages\"/><defs id=\"topdefs-f03da7\"><g class=\"clips\"/></defs><g class=\"layer-above\"><g class=\"imagelayer\"/><g class=\"shapelayer\"/></g><g class=\"infolayer\"><g class=\"g-gtitle\"><text class=\"gtitle\" x=\"630\" y=\"58.5\" text-anchor=\"end\" dy=\"0.7em\" style=\"font-family: 'Courier New', monospace; font-size: 30px; fill: rgb(42, 63, 95); opacity: 1; font-weight: normal; white-space: pre;\">Unique User Conversion Rates</text></g><g class=\"g-ytitle\"/></g></svg>"
      ]
     },
     "metadata": {},
     "output_type": "display_data"
    }
   ],
   "source": [
    "Uniqueuser_event = data.groupby('event_name').agg({'user_id':'nunique'}).sort_values('user_id',ascending=False).divide(total_Uniqueusers)*100\n",
    "\n",
    "fig = go.Figure()\n",
    "fig.add_trace(go.Funnel(\n",
    "                y=Uniqueuser_event.index,\n",
    "                x=Uniqueuser_event['user_id'].apply(lambda x: x),\n",
    "                opacity=.7\n",
    "))\n",
    "fig.update_layout(title={'text':'Unique User Conversion Rates','font':dict(family=\"Courier New, monospace\"\n",
    "                                                                           ,size=30), \"x\":.9,\"y\":.87},\n",
    "                  xaxis_title=\"\",\n",
    "                  yaxis_title=\"\",\n",
    "                  font=dict(\n",
    "                      family=\"Courier New, monospace\",\n",
    "                      size=16\n",
    "                  ))\n",
    "\n",
    "fig.show(\"svg\")"
   ]
  },
  {
   "cell_type": "markdown",
   "metadata": {},
   "source": [
    "Interestingly enough, 48 and then 46% of unique users made it to the critical stages in the funnel (cart and payment screen). It seems like the company has some loyal customers."
   ]
  },
  {
   "cell_type": "code",
   "execution_count": 335,
   "metadata": {},
   "outputs": [
    {
     "data": {
      "text/plain": [
       "PaymentScreenSuccessful    13.946337\n",
       "Name: event_name, dtype: float64"
      ]
     },
     "execution_count": 335,
     "metadata": {},
     "output_type": "execute_result"
    }
   ],
   "source": [
    "data.query(\"event_name == 'PaymentScreenSuccessful'\")['event_name'].value_counts().divide(len(data))*100"
   ]
  },
  {
   "cell_type": "code",
   "execution_count": 336,
   "metadata": {},
   "outputs": [
    {
     "data": {
      "image/svg+xml": [
       "<svg class=\"main-svg\" xmlns=\"http://www.w3.org/2000/svg\" xmlns:xlink=\"http://www.w3.org/1999/xlink\" width=\"700\" height=\"450\" style=\"\" viewBox=\"0 0 700 450\"><rect x=\"0\" y=\"0\" width=\"700\" height=\"450\" style=\"fill: rgb(255, 255, 255); fill-opacity: 1;\"/><defs id=\"defs-b1f132\"><g class=\"clips\"><clipPath id=\"clipb1f132xyplot\" class=\"plotclip\"><rect width=\"355\" height=\"270\"/></clipPath><clipPath class=\"axesclip\" id=\"clipb1f132x\"><rect x=\"265\" y=\"0\" width=\"355\" height=\"450\"/></clipPath><clipPath class=\"axesclip\" id=\"clipb1f132y\"><rect x=\"0\" y=\"100\" width=\"700\" height=\"270\"/></clipPath><clipPath class=\"axesclip\" id=\"clipb1f132xy\"><rect x=\"265\" y=\"100\" width=\"355\" height=\"270\"/></clipPath></g><g class=\"gradients\"/></defs><g class=\"bglayer\"><rect class=\"bg\" x=\"265\" y=\"100\" width=\"355\" height=\"270\" style=\"fill: rgb(229, 236, 246); fill-opacity: 1; stroke-width: 0;\"/></g><g class=\"layer-below\"><g class=\"imagelayer\"/><g class=\"shapelayer\"/></g><g class=\"cartesianlayer\"><g class=\"subplot xy\"><g class=\"layer-subplot\"><g class=\"shapelayer\"/><g class=\"imagelayer\"/></g><g class=\"gridlayer\"><g class=\"x\"/><g class=\"y\"><path class=\"ygrid crisp\" transform=\"translate(0,336.25)\" d=\"M265,0h355\" style=\"stroke: rgb(255, 255, 255); stroke-opacity: 1; stroke-width: 1px;\"/><path class=\"ygrid crisp\" transform=\"translate(0,268.75)\" d=\"M265,0h355\" style=\"stroke: rgb(255, 255, 255); stroke-opacity: 1; stroke-width: 1px;\"/><path class=\"ygrid crisp\" transform=\"translate(0,201.25)\" d=\"M265,0h355\" style=\"stroke: rgb(255, 255, 255); stroke-opacity: 1; stroke-width: 1px;\"/><path class=\"ygrid crisp\" transform=\"translate(0,133.75)\" d=\"M265,0h355\" style=\"stroke: rgb(255, 255, 255); stroke-opacity: 1; stroke-width: 1px;\"/></g></g><g class=\"zerolinelayer\"/><path class=\"xlines-below\"/><path class=\"ylines-below\"/><g class=\"overlines-below\"/><g class=\"xaxislayer-below\"/><g class=\"yaxislayer-below\"/><g class=\"overaxes-below\"/><g class=\"plot\" transform=\"translate(265, 100)\" clip-path=\"url('#clipb1f132xyplot')\"><g class=\"funnellayer mlayer\"><g class=\"trace bars\" style=\"opacity: 0.7;\"><g class=\"regions\"><g class=\"region\"><path d=\"M17.75,60.75L115.74,74.25H239.26L337.25,60.75Z\" style=\"stroke-width: 0; fill: rgb(99, 110, 250); fill-opacity: 0.5;\"/></g><g class=\"region\"><path d=\"M115.74,128.25L121.35,141.75H233.65L239.26,128.25Z\" style=\"stroke-width: 0; fill: rgb(99, 110, 250); fill-opacity: 0.5;\"/></g><g class=\"region\"><path d=\"M121.35,195.75L132.5,209.25H222.5L233.65,195.75Z\" style=\"stroke-width: 0; fill: rgb(99, 110, 250); fill-opacity: 0.5;\"/></g><g class=\"region\"><path d=\"M0,0Z\" style=\"stroke-width: 0; fill: rgb(99, 110, 250); fill-opacity: 0.5;\"/></g></g><g class=\"points\"><g class=\"point\"><path d=\"M17.75,6.75V60.75H337.25V6.75Z\" style=\"vector-effect: non-scaling-stroke; fill: rgb(99, 110, 250); fill-opacity: 1; stroke: rgb(68, 68, 68); stroke-opacity: 1; stroke-width: 0px; opacity: 1;\"/><text class=\"bartext bartext-inside\" text-anchor=\"middle\" data-notex=\"1\" x=\"0\" y=\"0\" style=\"font-family: 'Courier New', monospace; font-size: 16px; fill: rgb(255, 255, 255); fill-opacity: 1; white-space: pre;\" transform=\"translate(177.5,38.0859375)\">49.50954</text></g><g class=\"point\"><path d=\"M115.74,74.25V128.25H239.26V74.25Z\" style=\"vector-effect: non-scaling-stroke; fill: rgb(99, 110, 250); fill-opacity: 1; stroke: rgb(68, 68, 68); stroke-opacity: 1; stroke-width: 0px; opacity: 1;\"/><text class=\"bartext bartext-inside\" text-anchor=\"middle\" data-notex=\"1\" x=\"0\" y=\"0\" style=\"font-family: 'Courier New', monospace; font-size: 16px; fill: rgb(255, 255, 255); fill-opacity: 1; white-space: pre;\" transform=\"translate(177.5,105.5859375)\">19.14166</text></g><g class=\"point\"><path d=\"M121.35,141.75V195.75H233.65V141.75Z\" style=\"vector-effect: non-scaling-stroke; fill: rgb(99, 110, 250); fill-opacity: 1; stroke: rgb(68, 68, 68); stroke-opacity: 1; stroke-width: 0px; opacity: 1;\"/><text class=\"bartext bartext-inside\" text-anchor=\"middle\" data-notex=\"1\" x=\"0\" y=\"0\" style=\"font-family: 'Courier New', monospace; font-size: 16px; fill: rgb(255, 255, 255); fill-opacity: 1; white-space: pre;\" transform=\"translate(177.5,173.0859375)\">17.40246</text></g><g class=\"point\"><path d=\"M132.5,209.25V263.25H222.5V209.25Z\" style=\"vector-effect: non-scaling-stroke; fill: rgb(99, 110, 250); fill-opacity: 1; stroke: rgb(68, 68, 68); stroke-opacity: 1; stroke-width: 0px; opacity: 1;\"/><text class=\"bartext bartext-inside\" text-anchor=\"middle\" data-notex=\"1\" x=\"0\" y=\"0\" style=\"font-family: 'Courier New', monospace; font-size: 16px; fill: rgb(255, 255, 255); fill-opacity: 1; white-space: pre;\" transform=\"translate(177.5,240.5859375)\">13.94634</text></g></g></g></g></g><g class=\"overplot\"/><path class=\"xlines-above crisp\" d=\"M0,0\" style=\"fill: none;\"/><path class=\"ylines-above crisp\" d=\"M264.5,100V370\" style=\"fill: none; stroke-width: 1px; stroke: rgb(255, 255, 255); stroke-opacity: 1;\"/><g class=\"overlines-above\"/><g class=\"xaxislayer-above\"/><g class=\"yaxislayer-above\"><g class=\"ytick\"><text text-anchor=\"end\" x=\"260.8\" y=\"5.6\" transform=\"translate(0,336.25)\" style=\"font-family: 'Courier New', monospace; font-size: 16px; fill: rgb(42, 63, 95); fill-opacity: 1; white-space: pre;\">PaymentScreenSuccessful</text></g><g class=\"ytick\"><text text-anchor=\"end\" x=\"260.8\" y=\"5.6\" transform=\"translate(0,268.75)\" style=\"font-family: 'Courier New', monospace; font-size: 16px; fill: rgb(42, 63, 95); fill-opacity: 1; white-space: pre;\">CartScreenAppear</text></g><g class=\"ytick\"><text text-anchor=\"end\" x=\"260.8\" y=\"5.6\" transform=\"translate(0,201.25)\" style=\"font-family: 'Courier New', monospace; font-size: 16px; fill: rgb(42, 63, 95); fill-opacity: 1; white-space: pre;\">OffersScreenAppear</text></g><g class=\"ytick\"><text text-anchor=\"end\" x=\"260.8\" y=\"5.6\" transform=\"translate(0,133.75)\" style=\"font-family: 'Courier New', monospace; font-size: 16px; fill: rgb(42, 63, 95); fill-opacity: 1; white-space: pre;\">MainScreenAppear</text></g></g><g class=\"overaxes-above\"/></g></g><g class=\"polarlayer\"/><g class=\"ternarylayer\"/><g class=\"geolayer\"/><g class=\"funnelarealayer\"/><g class=\"pielayer\"/><g class=\"treemaplayer\"/><g class=\"sunburstlayer\"/><g class=\"glimages\"/><defs id=\"topdefs-b1f132\"><g class=\"clips\"/></defs><g class=\"layer-above\"><g class=\"imagelayer\"/><g class=\"shapelayer\"/></g><g class=\"infolayer\"><g class=\"g-gtitle\"><text class=\"gtitle\" x=\"35\" y=\"50\" text-anchor=\"start\" dy=\"0em\" style=\"font-family: 'Courier New', monospace; font-size: 30px; fill: rgb(42, 63, 95); opacity: 1; font-weight: normal; white-space: pre;\">Event Proportion</text></g><g class=\"g-ytitle\"/></g></svg>"
      ]
     },
     "metadata": {},
     "output_type": "display_data"
    }
   ],
   "source": [
    "visit_conversion = (data['event_name'].value_counts(normalize=True)*100).reset_index()\n",
    "\n",
    "fig = go.Figure()\n",
    "fig.add_trace(go.Funnel(\n",
    "                x=visit_conversion['event_name'],\n",
    "                y=visit_conversion['index'].apply(lambda x: x),\n",
    "                opacity=.7\n",
    "))\n",
    "fig.update_layout(title={'text': 'Event Proportion', 'font': dict(family=\"Courier New, monospace\", size=30)},\n",
    "                  xaxis_title=\"\",\n",
    "                  yaxis_title=\"\",\n",
    "                  font=dict(\n",
    "                      family=\"Courier New, monospace\",\n",
    "                      size=16\n",
    "))\n",
    "fig.show(\"svg\")"
   ]
  },
  {
   "cell_type": "markdown",
   "metadata": {},
   "source": [
    "Around half of all visits land on the main screen page with < 14% landing on the paymentscreen page.  With a 14% conversion rate "
   ]
  },
  {
   "cell_type": "markdown",
   "metadata": {},
   "source": [
    "# Experiment Analysis"
   ]
  },
  {
   "cell_type": "markdown",
   "metadata": {},
   "source": [
    "How many users are there in each group?\n"
   ]
  },
  {
   "cell_type": "code",
   "execution_count": 337,
   "metadata": {},
   "outputs": [],
   "source": [
    "experiment_Uniqueuser_Count = data.groupby(['experiment_id']).agg({'user_id':'nunique'}).reset_index()"
   ]
  },
  {
   "cell_type": "code",
   "execution_count": 338,
   "metadata": {},
   "outputs": [
    {
     "data": {
      "text/plain": [
       "0    33.006\n",
       "1    33.396\n",
       "2    33.598\n",
       "Name: user_id, dtype: float64"
      ]
     },
     "execution_count": 338,
     "metadata": {},
     "output_type": "execute_result"
    }
   ],
   "source": [
    "round(experiment_Uniqueuser_Count['user_id']/experiment_Uniqueuser_Count['user_id'].sum()*100,3)"
   ]
  },
  {
   "cell_type": "code",
   "execution_count": 339,
   "metadata": {},
   "outputs": [
    {
     "data": {
      "image/png": "[encoded data removed]",
      "text/plain": [
       "<Figure size 432x360 with 1 Axes>"
      ]
     },
     "metadata": {},
     "output_type": "display_data"
    }
   ],
   "source": [
    "fig, ax = plt.subplots(figsize=(6, 5), subplot_kw=dict(aspect=\"equal\"))\n",
    "\n",
    "explode = (0.05, 0.05, 0.05)\n",
    "patches, texts = plt.pie(experiment_Uniqueuser_Count['user_id'].values,\n",
    "                         shadow=True,\n",
    "                         colors=['#ff9999', '#66b3ff', 'papayawhip'],\n",
    "                         labels=experiment_Uniqueuser_Count['user_id'],\n",
    "                         textprops={\n",
    "                             'fontsize': 18,\n",
    "                             'fontweight': 'bold',\n",
    "                             'color': '#43464b'\n",
    "                         },\n",
    "                         labeldistance=.6,\n",
    "                         wedgeprops=dict(width=0.5),\n",
    "                         explode=explode,\n",
    "                         startangle=90,\n",
    "                         radius=1.2)\n",
    "texts[1].set_horizontalalignment('center')\n",
    "texts[1].set_y(-1)\n",
    "\n",
    "plt.text(texts[0].get_position()[0] - 1,\n",
    "         texts[0].get_position()[1] + .14,\n",
    "         experiment_Uniqueuser_Count['experiment_id'][0],\n",
    "         fontsize=20)\n",
    "plt.text(texts[1].get_position()[0] - .15,\n",
    "         texts[1].get_position()[1] - .5,\n",
    "         experiment_Uniqueuser_Count['experiment_id'][1],\n",
    "         fontsize=20)\n",
    "plt.text(texts[2].get_position()[0] + .6,\n",
    "         texts[2].get_position()[1] + .15,\n",
    "         experiment_Uniqueuser_Count['experiment_id'][2],\n",
    "         fontsize=20)\n",
    "plt.title(\"Unique Users Per Experiment Groups\",\n",
    "          pad=40,\n",
    "          size=25,\n",
    "          x=.5,\n",
    "          color='darkslategray',\n",
    "          fontname='sans-serif')\n",
    "plt.show()"
   ]
  },
  {
   "cell_type": "markdown",
   "metadata": {},
   "source": [
    "Unique users per experimental groups are roughly evenly distributed. "
   ]
  },
  {
   "cell_type": "code",
   "execution_count": 340,
   "metadata": {},
   "outputs": [
    {
     "data": {
      "image/png": "[encoded data removed]",
      "text/plain": [
       "<Figure size 864x360 with 1 Axes>"
      ]
     },
     "metadata": {
      "needs_background": "light"
     },
     "output_type": "display_data"
    }
   ],
   "source": [
    "fig, ax = plt.subplots(figsize=(12, 5))\n",
    "data.groupby(['experiment_id', 'day','hour']).agg({\n",
    "    'user_id': 'count'\n",
    "}).query('experiment_id == 246').reset_index(0)['user_id'].plot.line(style='.-',rot=0,alpha=.6)\n",
    "data.groupby(['experiment_id', 'day','hour']).agg({\n",
    "    'user_id': 'count'\n",
    "}).query('experiment_id == 247').reset_index(0)['user_id'].plot.line(style='.-',rot=0,alpha=.6)\n",
    "data.groupby(['experiment_id', 'day','hour']).agg({\n",
    "    'user_id': 'count'\n",
    "}).query('experiment_id == 248').reset_index(0)['user_id'].plot.line(style='.-',rot=0,alpha=.6, color='purple')\n",
    "\n",
    "ax.set_xticklabels(['/'.join(x.get_text().replace(\"(\",\"\").split(',')[0].split('-')[1:]) for \n",
    "                   x in ax.get_xticklabels()])\n",
    "plt.legend(['246', '247', '248'], fontsize=10.5, ncol=3,title='Experiment #',title_fontsize=11 ,loc='upper right')\n",
    "\n",
    "custom_graph('x',13,'Count','Date','Count of Visits by Date Per Experiment Group',20,15)\n"
   ]
  },
  {
   "cell_type": "markdown",
   "metadata": {},
   "source": [
    "The distribution of event log timestamps are also roughly the same over the three experimental groups."
   ]
  },
  {
   "cell_type": "markdown",
   "metadata": {},
   "source": [
    "## AA Test"
   ]
  },
  {
   "cell_type": "markdown",
   "metadata": {},
   "source": [
    "Here are the criteria for a successful A/A test:\n",
    "(1)The number of users in different groups doesn't vary by more than 1% -><b>checked in the beginning</b>\n",
    "\n",
    "(2) For all groups, data on the same event is recorded and sent to analytical systems-> <b>assume that its met (in real life I would dive deeper into this given the potential error seen with the timestamps)</b>\n",
    "    \n",
    "(3)None of the key metrics varies by a statistically significant amount—typically by no more than 1% \n",
    "\n",
    "(4)Users remain within their groups until the end of the test. If they see different versions of the page during the study, it won't be clear which version influenced their decisions, so the reliability of the results will be compromised -> <b>check (see below)</b>\n",
    "\n",
    "(5) large enough sample size"
   ]
  },
  {
   "cell_type": "code",
   "execution_count": 341,
   "metadata": {},
   "outputs": [
    {
     "data": {
      "text/html": [
       "<div>\n",
       "<style scoped>\n",
       "    .dataframe tbody tr th:only-of-type {\n",
       "        vertical-align: middle;\n",
       "    }\n",
       "\n",
       "    .dataframe tbody tr th {\n",
       "        vertical-align: top;\n",
       "    }\n",
       "\n",
       "    .dataframe thead th {\n",
       "        text-align: right;\n",
       "    }\n",
       "</style>\n",
       "<table border=\"1\" class=\"dataframe\">\n",
       "  <thead>\n",
       "    <tr style=\"text-align: right;\">\n",
       "      <th></th>\n",
       "      <th>user_id</th>\n",
       "    </tr>\n",
       "    <tr>\n",
       "      <th>experiment_id</th>\n",
       "      <th></th>\n",
       "    </tr>\n",
       "  </thead>\n",
       "  <tbody>\n",
       "    <tr>\n",
       "      <th>246</th>\n",
       "      <td>0.330055</td>\n",
       "    </tr>\n",
       "    <tr>\n",
       "      <th>247</th>\n",
       "      <td>0.333962</td>\n",
       "    </tr>\n",
       "  </tbody>\n",
       "</table>\n",
       "</div>"
      ],
      "text/plain": [
       "                user_id\n",
       "experiment_id          \n",
       "246            0.330055\n",
       "247            0.333962"
      ]
     },
     "execution_count": 341,
     "metadata": {},
     "output_type": "execute_result"
    }
   ],
   "source": [
    "data.groupby(['experiment_id']).agg({'user_id':'nunique'}).divide(data['user_id'].nunique()).iloc[:-1]\n",
    "#1st criteria met"
   ]
  },
  {
   "cell_type": "markdown",
   "metadata": {},
   "source": [
    "Let's check if there is a statistically significant difference in conversion rates between samples 246 and 247."
   ]
  },
  {
   "cell_type": "code",
   "execution_count": 342,
   "metadata": {},
   "outputs": [
    {
     "data": {
      "text/plain": [
       "(17228, 238041)"
      ]
     },
     "execution_count": 342,
     "metadata": {},
     "output_type": "execute_result"
    }
   ],
   "source": [
    "len(Users_Over580_sessions), len(data)"
   ]
  },
  {
   "cell_type": "markdown",
   "metadata": {},
   "source": [
    "## Data with no outliers (will be using this frequently in the next cells)"
   ]
  },
  {
   "cell_type": "code",
   "execution_count": 343,
   "metadata": {},
   "outputs": [],
   "source": [
    "non_outliers = data.query(\"user_id not in @Useroutlier_index\")"
   ]
  },
  {
   "cell_type": "code",
   "execution_count": 344,
   "metadata": {},
   "outputs": [],
   "source": [
    "# building an array with unique paired date-group values\n",
    "datesGroups = data[['experiment_id', 'day_hour']].drop_duplicates()\n",
    "\n",
    "#unique users with total outlier session count (< 538 events)\n",
    "datesGroups_ = non_outliers[['experiment_id', 'day_hour']].drop_duplicates()"
   ]
  },
  {
   "cell_type": "markdown",
   "metadata": {},
   "source": [
    "Let's retrieve a dataframe with the cumulative count for the mainscreen and payment screen."
   ]
  },
  {
   "cell_type": "markdown",
   "metadata": {},
   "source": [
    "To obtain our cumulative metrics, we'll use the following logic and apply it to the grouped datafame:\n",
    "<ul>\n",
    "    <li> <b> Use np.logical_and()</b> method to apply boolean operation to Series objects; helpful in this case given multiple conditions </li>\n",
    "\n",
    "1. we get the rows of the orders table where the date is less than or equal to the date of the datesGroups element ( because we are working with cumulative data) and the test group is the same as in datesGroup \n",
    "2. Filter for either payment screen (or mainscreen)\n",
    "3. Get the maximum date and maximum experiment id--buffer values-- for the group so that we have the 'date' and 'group' column in the final output\n",
    "4. \n",
    "    <li>We find the number of unique order and user IDs </li>\n",
    "    <li> calculate the total users per event stage </li>\n",
    "</ul>\n",
    "\n",
    "With this code, it's as if we've been calculating the results of our test every day up to the current date and storing them in the rows of the ordersAggregated table. The metric is cumulative, so after some amount of time, we will have enough data to forget about this inaccuracy. "
   ]
  },
  {
   "cell_type": "code",
   "execution_count": 345,
   "metadata": {},
   "outputs": [],
   "source": [
    "#dataframe with outliers\n",
    "\n",
    "#cumulative unique user purchases by date and hour\n",
    "paymentscreen_Cumulativecount = datesGroups.apply(\n",
    "    lambda x: data[np.logical_and(data['day_hour'] <= x['day_hour'], data[\n",
    "        'experiment_id'] == x['experiment_id'])].query(\n",
    "            \"event_name =='PaymentScreenSuccessful'\").agg({\n",
    "                'day_hour': 'max',\n",
    "                'experiment_id': 'max',\n",
    "                'user_id': 'nunique'\n",
    "            }), axis=1)\n",
    "\n",
    "#cumulative unique users by date and hour\n",
    "totalCount_Cumulativecount = datesGroups.apply(\n",
    "    lambda x: data[np.logical_and(data['day_hour'] <= x['day_hour'], data[\n",
    "        'experiment_id'] == x['experiment_id'])].agg({\n",
    "                'day_hour': 'max',\n",
    "                'experiment_id': 'max',\n",
    "                'user_id': 'nunique'\n",
    "            }), axis=1)"
   ]
  },
  {
   "cell_type": "code",
   "execution_count": 346,
   "metadata": {},
   "outputs": [],
   "source": [
    "# damframe without outliers\n",
    "\n",
    "#cumulative unique user purchases by date and hour\n",
    "paymentscreen_Cumulativecount_ =datesGroups_.apply(lambda x: non_outliers[\n",
    "    np.logical_and(non_outliers['day_hour'] <= x['day_hour'], non_outliers[\n",
    "        'experiment_id'] == x['experiment_id'])].query(\n",
    "            \"event_name =='MainScreenAppear'\").agg({\n",
    "                'day_hour': 'max',\n",
    "                'experiment_id': 'max',\n",
    "                'user_id': 'nunique'\n",
    "            }), axis=1)\n",
    "#cumulative count of events by date and hour\n",
    "totalCount_Cumulativecount_ = datesGroups_.apply(lambda x: non_outliers[\n",
    "    np.logical_and(non_outliers['day_hour'] <= x['day_hour'], non_outliers[\n",
    "        'experiment_id'] == x['experiment_id'])].agg({\n",
    "                'day_hour': 'max',\n",
    "                'experiment_id': 'max',\n",
    "                'user_id': 'nunique'\n",
    "            }),axis=1)"
   ]
  },
  {
   "cell_type": "code",
   "execution_count": 347,
   "metadata": {},
   "outputs": [
    {
     "data": {
      "text/plain": [
       "(day_hour         0\n",
       " experiment_id    0\n",
       " user_id          0\n",
       " dtype: int64, day_hour         0\n",
       " experiment_id    0\n",
       " user_id          0\n",
       " dtype: int64)"
      ]
     },
     "execution_count": 347,
     "metadata": {},
     "output_type": "execute_result"
    }
   ],
   "source": [
    "#sanity check \n",
    "totalCount_Cumulativecount.isnull().sum(), paymentscreen_Cumulativecount.isnull().sum()"
   ]
  },
  {
   "cell_type": "code",
   "execution_count": 348,
   "metadata": {},
   "outputs": [],
   "source": [
    "# merging the two tables into one and giving its columns descriptive names - outliers\n",
    "conversions = pd.merge(paymentscreen_Cumulativecount,\n",
    "                       totalCount_Cumulativecount,\n",
    "                       left_on=['day_hour', 'experiment_id'],\n",
    "                       right_on=['day_hour', 'experiment_id'])\n",
    "conversions.columns = ['date', 'experiment', 'unique_customers', 'unique_visitors']\n",
    "\n",
    "# merging the two tables into one and giving its columns descriptive names -non-outliers\n",
    "conversions_ = pd.merge(paymentscreen_Cumulativecount_,\n",
    "                        totalCount_Cumulativecount_,\n",
    "                        left_on=['day_hour', 'experiment_id'],\n",
    "                        right_on=['day_hour', 'experiment_id'])\n",
    "conversions_.columns = ['date', 'experiment', 'unique_customers', 'unique_visitors']"
   ]
  },
  {
   "cell_type": "code",
   "execution_count": 349,
   "metadata": {},
   "outputs": [
    {
     "data": {
      "text/plain": [
       "(                  day_hour  experiment_id  user_id\n",
       " 0      2019-07-31 14:00:00            246       15\n",
       " 1      2019-07-31 14:00:00            247       22\n",
       " 2      2019-07-31 14:00:00            248       24\n",
       " 354    2019-07-31 15:00:00            246       34\n",
       " 357    2019-07-31 15:00:00            248       45\n",
       " ...                    ...            ...      ...\n",
       " 239635 2019-08-07 13:00:00            247     2476\n",
       " 239637 2019-08-07 13:00:00            246     2445\n",
       " 240580 2019-08-07 14:00:00            247     2476\n",
       " 240581 2019-08-07 14:00:00            246     2445\n",
       " 240584 2019-08-07 14:00:00            248     2486\n",
       " \n",
       " [507 rows x 3 columns],                   day_hour  experiment_id  user_id\n",
       " 0      2019-07-31 14:00:00            246       19\n",
       " 1      2019-07-31 14:00:00            247       24\n",
       " 2      2019-07-31 14:00:00            248       25\n",
       " 354    2019-07-31 15:00:00            246       38\n",
       " 357    2019-07-31 15:00:00            248       46\n",
       " ...                    ...            ...      ...\n",
       " 239635 2019-08-07 13:00:00            247     2476\n",
       " 239637 2019-08-07 13:00:00            246     2445\n",
       " 240580 2019-08-07 14:00:00            247     2476\n",
       " 240581 2019-08-07 14:00:00            246     2445\n",
       " 240584 2019-08-07 14:00:00            248     2486\n",
       " \n",
       " [507 rows x 3 columns])"
      ]
     },
     "execution_count": 349,
     "metadata": {},
     "output_type": "execute_result"
    }
   ],
   "source": [
    "paymentscreen_Cumulativecount_,totalCount_Cumulativecount_"
   ]
  },
  {
   "cell_type": "code",
   "execution_count": 350,
   "metadata": {},
   "outputs": [
    {
     "name": "stdout",
     "output_type": "stream",
     "text": [
      "                 date  experiment  unique_customers  unique_visitors\n",
      "0 2019-07-31 14:00:00         246                 1               19\n",
      "1 2019-07-31 14:00:00         247                 1               24\n",
      "2 2019-07-31 14:00:00         247                 1               24\n",
      "3 2019-07-31 14:00:00         248                 3               25\n",
      "4 2019-07-31 15:00:00         246                 3               38\n",
      "\n",
      "                 date  experiment  unique_customers  unique_visitors\n",
      "0 2019-07-31 14:00:00         246                15               19\n",
      "1 2019-07-31 14:00:00         247                22               24\n",
      "2 2019-07-31 14:00:00         248                24               25\n",
      "3 2019-07-31 15:00:00         246                34               38\n",
      "4 2019-07-31 15:00:00         248                45               46\n"
     ]
    }
   ],
   "source": [
    "print(conversions.head())\n",
    "print()\n",
    "print(conversions_.head())"
   ]
  },
  {
   "cell_type": "markdown",
   "metadata": {},
   "source": [
    "Conversion rate (x= purchases, y= visits)"
   ]
  },
  {
   "cell_type": "code",
   "execution_count": 351,
   "metadata": {},
   "outputs": [],
   "source": [
    "#containing outliers\n",
    "conversions['conversion_rate']=conversions['unique_customers']/conversions['unique_visitors']\n",
    "\n",
    "#non-outliers\n",
    "conversions_['conversion_rate']=conversions_['unique_customers']/conversions_['unique_visitors']"
   ]
  },
  {
   "cell_type": "code",
   "execution_count": 352,
   "metadata": {},
   "outputs": [
    {
     "data": {
      "text/plain": [
       "0       5.263158\n",
       "1       4.166667\n",
       "2       4.166667\n",
       "3      12.000000\n",
       "4       7.894737\n",
       "         ...    \n",
       "502    45.502219\n",
       "503    45.502219\n",
       "504    47.755102\n",
       "505    47.755102\n",
       "506    45.870088\n",
       "Name: conversion_rate, Length: 507, dtype: float64"
      ]
     },
     "execution_count": 352,
     "metadata": {},
     "output_type": "execute_result"
    }
   ],
   "source": [
    "conversions['conversion_rate']*100"
   ]
  },
  {
   "cell_type": "code",
   "execution_count": 357,
   "metadata": {},
   "outputs": [
    {
     "data": {
      "image/png": "[encoded data removed]",
      "text/plain": [
       "<Figure size 936x360 with 1 Axes>"
      ]
     },
     "metadata": {
      "needs_background": "light"
     },
     "output_type": "display_data"
    },
    {
     "data": {
      "image/png": "[encoded data removed]",
      "text/plain": [
       "<Figure size 936x360 with 1 Axes>"
      ]
     },
     "metadata": {
      "needs_background": "light"
     },
     "output_type": "display_data"
    }
   ],
   "source": [
    "DF_names = ['w/ outliers', 'no outliers']\n",
    "for df, i in zip([conversions, conversions_], [0, 1]):\n",
    "    fig, ax = plt.subplots(figsize=(13, 5))\n",
    "\n",
    "    sns.lineplot(df['date'], df['conversion_rate'], style=df['experiment'])\n",
    "    ax.yaxis.set_major_formatter(ticker.PercentFormatter(decimals=1))\n",
    "    ax.get_children()[3].set_color('green')\n",
    "    if i==0:\n",
    "        ax.set_ylim(0, ax.get_yticks()[-1])\n",
    "        plt.text(ax.get_children()[3]._x[-1]+.1, ax.get_children()[3]._y[-1],'246')\n",
    "    \n",
    "    plt.legend(loc='center right')\n",
    "    custom_graph('y', 13, 'Date', 'Conversion Rate',\n",
    "                 'Cumulative User Conversion by Group -' + DF_names[i], 20, 15)"
   ]
  },
  {
   "cell_type": "markdown",
   "metadata": {},
   "source": [
    "Without outliers, there seems to be a problem: Control group A (246) has a higher conversion rate in comparison to the other control group (247). However, when taking the outliers into account, the difference is no longer apparent. "
   ]
  },
  {
   "cell_type": "markdown",
   "metadata": {},
   "source": [
    "Let's take a look at the relative conversion rates amongst the control group."
   ]
  },
  {
   "cell_type": "code",
   "execution_count": 359,
   "metadata": {},
   "outputs": [],
   "source": [
    "dates = conversions.query(\n",
    "    \"experiment in [246,247]\")['date'].drop_duplicates().append(\n",
    "        pd.to_datetime(\n",
    "            pd.Series([str(df['date'].max()), str(df['date'].max())])))"
   ]
  },
  {
   "cell_type": "code",
   "execution_count": 360,
   "metadata": {},
   "outputs": [
    {
     "data": {
      "image/png": "[encoded data removed]",
      "text/plain": [
       "<Figure size 1080x360 with 1 Axes>"
      ]
     },
     "metadata": {
      "needs_background": "light"
     },
     "output_type": "display_data"
    },
    {
     "data": {
      "image/png": "[encoded data removed]",
      "text/plain": [
       "<Figure size 1080x360 with 1 Axes>"
      ]
     },
     "metadata": {
      "needs_background": "light"
     },
     "output_type": "display_data"
    }
   ],
   "source": [
    "DF_names = ['w/ outliers', 'no outliers']\n",
    "for df, i in zip([conversions, conversions_], [0, 1]):\n",
    "    fig, ax = plt.subplots(figsize=(15, 5))\n",
    "    plt.plot(dates,\n",
    "             (df.query(\"experiment == 247\")['conversion_rate'].reset_index(\n",
    "                 drop=True) /\n",
    "              df.query(\"experiment == 246\")['conversion_rate'].reset_index(\n",
    "                  drop=True)) - 1)\n",
    "    plt.axhline(y=0, color='black', linestyle='--')\n",
    "    ax.yaxis.set_major_formatter(ticker.PercentFormatter())\n",
    "\n",
    "    custom_graph(\n",
    "        'y',\n",
    "        13,\n",
    "        'Day',\n",
    "        'Conversion Rate',\n",
    "        \"Relative user conversion in control group 246 as opposed to control group 247 -\"\n",
    "        + DF_names[i],\n",
    "        20,\n",
    "        pad=15)"
   ]
  },
  {
   "cell_type": "markdown",
   "metadata": {},
   "source": [
    "Conversion rate for A group 246 seem to be stabilizing at a rate higher relative to group 247's conversion rate. When accounting for outliers, the difference absent of which is the expected reuslts given that they stem from the same population. In the following tests, the non-outlier dataframe will be more trustworthy."
   ]
  },
  {
   "cell_type": "code",
   "execution_count": 361,
   "metadata": {},
   "outputs": [
    {
     "data": {
      "image/png": "[encoded data removed]",
      "text/plain": [
       "<Figure size 1080x360 with 1 Axes>"
      ]
     },
     "metadata": {
      "needs_background": "light"
     },
     "output_type": "display_data"
    },
    {
     "data": {
      "image/png": "[encoded data removed]",
      "text/plain": [
       "<Figure size 1080x360 with 1 Axes>"
      ]
     },
     "metadata": {
      "needs_background": "light"
     },
     "output_type": "display_data"
    }
   ],
   "source": [
    "DF_names = ['w/ outliers', 'no outliers']\n",
    "for df, i in zip([conversions, conversions_], [0, 1]):\n",
    "    fig, ax = plt.subplots(figsize=(15, 5))\n",
    "    plt.plot(dates,\n",
    "             (df.query(\"experiment == 246\")['conversion_rate'].reset_index(\n",
    "                 drop=True) /\n",
    "              df.query(\"experiment == 248\")['conversion_rate'].reset_index(\n",
    "                  drop=True)) - 1)\n",
    "    plt.axhline(y=0, color='black', linestyle='--')\n",
    "    ax.yaxis.set_major_formatter(ticker.PercentFormatter())\n",
    "    custom_graph(\n",
    "        'y',\n",
    "        13,\n",
    "        'Day',\n",
    "        'Conversion Rate',\n",
    "        \"Relative user conversion in control group 246 as opposed to control group 248 - \"\n",
    "        + DF_names[i],\n",
    "        20,\n",
    "        pad=15)"
   ]
  },
  {
   "cell_type": "markdown",
   "metadata": {},
   "source": [
    "Again, a conversion gain is seen in favor of the control group but this may have stemed from the outliers as the non-outliers show no difference. Conversion metrics seem to have stabilized."
   ]
  },
  {
   "cell_type": "code",
   "execution_count": 362,
   "metadata": {},
   "outputs": [
    {
     "data": {
      "image/png": "[encoded data removed]",
      "text/plain": [
       "<Figure size 1080x360 with 1 Axes>"
      ]
     },
     "metadata": {
      "needs_background": "light"
     },
     "output_type": "display_data"
    },
    {
     "data": {
      "image/png": "[encoded data removed]",
      "text/plain": [
       "<Figure size 1080x360 with 1 Axes>"
      ]
     },
     "metadata": {
      "needs_background": "light"
     },
     "output_type": "display_data"
    }
   ],
   "source": [
    "DF_names = ['w/ outliers', 'no outliers']\n",
    "for df, i in zip([conversions, conversions_], [0, 1]):\n",
    "    fig, ax = plt.subplots(figsize=(15, 5))\n",
    "    plt.plot(dates,\n",
    "             (df.query(\"experiment == 248\")['conversion_rate'].reset_index(\n",
    "                 drop=True) /\n",
    "              df.query(\"experiment == 247\")['conversion_rate'].reset_index(\n",
    "                  drop=True)) - 1)\n",
    "    ax.yaxis.set_major_formatter(ticker.PercentFormatter())\n",
    "    plt.axhline(y=0, color='black', linestyle='--')\n",
    "    custom_graph(\n",
    "        'y',\n",
    "        13,\n",
    "        'Day',\n",
    "        'Conversion Rate',\n",
    "        \"Relative user conversion in control group 247 as opposed to group 248 -\"\n",
    "        + DF_names[i],\n",
    "        20,\n",
    "        pad=15)"
   ]
  },
  {
   "cell_type": "markdown",
   "metadata": {},
   "source": [
    "No difference is seen between control group 247 and 248 regardless of the outliers being present in the data. "
   ]
  },
  {
   "cell_type": "markdown",
   "metadata": {},
   "source": [
    "## Hypothesis Tests"
   ]
  },
  {
   "cell_type": "markdown",
   "metadata": {},
   "source": [
    "\n",
    "The following will be the hypotheses based on the analysis earlier (pinpoint potential errors in event segmentation, confirm differences amongst the control groups, and get a very rough idea of A/B test results) :\n",
    "\n",
    "X = font groups (246,247,248)\n",
    "\n",
    "Y = event (main, offer, cart, and payment)\n",
    "\n",
    "### CONVERSION RATE: Unique customers / Unique visitors\n",
    "<ul>\n",
    "<li>HO: X user conversion rates (&#956;) = X user conversion rate (&#956;)   --w/outliers and no outliers</li>\n",
    "<li>H1: X user conversion rates (&#956;) != X user conversion rate (&#956;)  -- w.outliers and no outliers</li>\n",
    "Expect AA to not give any significant results.\n",
    "    <br/>\n",
    "    <b>OR</b>\n",
    "\n",
    "### EVENT PROPORTIONS: EVENT (total Y count) / TOTAL EVENTS (total event count)\n",
    "<li>HO: XY event proportion (&#956;) = XY event proportion (&#956;)   --w/outliers and no outliers</li>\n",
    "<li>H1: XY event proportion (&#956;) != XY event proportion (&#956;)  -- w.outliers and no outliers</li>\n",
    "    <br/></ul>   "
   ]
  },
  {
   "cell_type": "markdown",
   "metadata": {},
   "source": [
    "To test the hypotheses, we will be using a two proportion Z-test. Since we are looking for equality (not < or >) in proportion means for all the hypotheses, a two-sided test will be used for all of them. Note, the assumptions for the test are met:\n",
    "<ul>\n",
    "    <li>sample is greater than 30 <b>(unique users per event > 1,170)</b></li>\n",
    "    <li>independent samples <b>(A/B tests ->different features and A/A tests -> N/A)</b></li>\n",
    "    <li>normally distributed given <b>large sample size</b></li>\n",
    "</ul>\n",
    "\n",
    "A false positive rate of 10% will be tolerated for this test. \n",
    "\n"
   ]
  },
  {
   "cell_type": "markdown",
   "metadata": {},
   "source": [
    "To test this, we will be using the <b>proportion_ztest</b> methods from the <b>statsmodel</b> library. Here are the parameters used: \n",
    "\n",
    "- nobs = total # of unique users (visitors)\n",
    "- count = # of unique paying users (customers)\n",
    "- value =  proportion to test against (testing for equality in proportions (conversion rates))\n",
    "- alternative = alternative hypothesis ('two-sided','smaller','larger')"
   ]
  },
  {
   "cell_type": "code",
   "execution_count": 363,
   "metadata": {},
   "outputs": [],
   "source": [
    "# If not provided value = 0 and the null is prop[0] = prop[1]\n",
    "def proportion_ztest(alpha, successes, visits, event_name, test_group_label,\n",
    "                     first, second, measure = \"Conversion Rates\"):\n",
    "    \"\"\"\n",
    "    Function that takes in a dataframe, iterates over each of its columns and checks for\n",
    "    common indicators of missing values (ie. negative values).   \n",
    "\n",
    "    Args:\n",
    "         data (pandas.DataFrame): Dataframe to be checked\n",
    "\n",
    "    Returns:\n",
    "        list (dict): a list containing (if any) a dictionar[y/ies] of key:value pair in the \n",
    "        following format - {column's missing value: % of column's missing value} - sorted in descending order\n",
    "    \"\"\"\n",
    "    \n",
    "    print(test_group_label, 'Alpha:', alpha)\n",
    "\n",
    "    stat, pval = proportions_ztest(count=successes,\n",
    "                                   nobs=visits,\n",
    "                                   alternative='two-sided')\n",
    "\n",
    "    if (pval < alpha): \n",
    "        print(\n",
    "            '\\t\\t\\t', event_name, '\\n',\n",
    "            'Rejecting the null hypothesis: there is a significant difference between the proportions.'\n",
    "        )\n",
    "    else:\n",
    "        print(\n",
    "            '\\t\\t\\t', event_name, '\\n',\n",
    "            \"Failed to reject the null hypothesis: there is no reason to consider the proportions different\"\n",
    "        )\n",
    "\n",
    "    print('P-value:{:.3f}\\nZ-value:{:.3f}'.format(pval, stat))\n",
    "    print('')\n",
    "    print(first, measure+\":\", round((successes[0] / visits[0]) * 100,2))\n",
    "    print(second, measure+\":\",\n",
    "          round((successes[1] / visits[1]) * 100, 2))\n",
    "    \n",
    "    print( '------------------------------------------------------------------------------')"
   ]
  },
  {
   "cell_type": "markdown",
   "metadata": {},
   "source": [
    "<h3 style='text-align:center;'>AA test</h3>"
   ]
  },
  {
   "cell_type": "markdown",
   "metadata": {},
   "source": [
    "Let's group users in the control group in a separate dataframe."
   ]
  },
  {
   "cell_type": "code",
   "execution_count": 364,
   "metadata": {},
   "outputs": [],
   "source": [
    "#will be using control group often\n",
    "ControlGroup = data.query(\"experiment_id in [246,247]\")\n",
    "ControlGroup_NoOutliers = non_outliers.query(\"experiment_id in [246,247]\")"
   ]
  },
  {
   "cell_type": "code",
   "execution_count": 365,
   "metadata": {},
   "outputs": [],
   "source": [
    "AA_test= pd.merge(ControlGroup.query(\"event_name in ['PaymentScreenSuccessful']\"\n",
    "             ).groupby('experiment_id').agg({\"user_id\":\"nunique\"}),\n",
    "         (ControlGroup.groupby('experiment_id').agg({\"user_id\":\"nunique\"})),left_index =True, right_index=True)\n",
    "\n",
    "AA_NoOutliers_test =pd.merge(ControlGroup_NoOutliers.query(\"event_name in ['PaymentScreenSuccessful']\"\n",
    "             ).groupby('experiment_id').agg({\"user_id\":\"nunique\"}),\n",
    "         (ControlGroup_NoOutliers.groupby('experiment_id').agg({\"user_id\":\"nunique\"})),left_index =True, right_index=True)\n"
   ]
  },
  {
   "cell_type": "code",
   "execution_count": 366,
   "metadata": {},
   "outputs": [],
   "source": [
    "AA_test.columns = ['unique_customers','unique_visitors']\n",
    "AA_NoOutliers_test.columns = ['unique_customers','unique_visitors']"
   ]
  },
  {
   "cell_type": "code",
   "execution_count": 367,
   "metadata": {},
   "outputs": [
    {
     "data": {
      "text/plain": [
       "(<bound method NDFrame.head of                unique_customers  unique_visitors\n",
       " experiment_id                                   \n",
       " 246                        1170             2450\n",
       " 247                        1128             2479>,\n",
       "                unique_customers  unique_visitors\n",
       " experiment_id                                   \n",
       " 246                        1165             2445\n",
       " 247                        1125             2476)"
      ]
     },
     "execution_count": 367,
     "metadata": {},
     "output_type": "execute_result"
    }
   ],
   "source": [
    "AA_test.head, AA_NoOutliers_test"
   ]
  },
  {
   "cell_type": "code",
   "execution_count": 368,
   "metadata": {},
   "outputs": [
    {
     "name": "stdout",
     "output_type": "stream",
     "text": [
      "AA  Alpha: 0.1\n",
      "\t\t\t  \n",
      " Failed to reject the null hypothesis: there is no reason to consider the proportions different\n",
      "P-value:0.113\n",
      "Z-value:1.585\n",
      "\n",
      "246 Conversion Rates: 47.76\n",
      "247 Conversion Rates: 45.5\n",
      "------------------------------------------------------------------------------\n",
      "AA  Alpha: 0.1\n",
      "\t\t\t  \n",
      " Failed to reject the null hypothesis: there is no reason to consider the proportions different\n",
      "P-value:0.120\n",
      "Z-value:1.555\n",
      "\n",
      "246 Conversion Rates: 47.65\n",
      "247 Conversion Rates: 45.44\n",
      "------------------------------------------------------------------------------\n"
     ]
    }
   ],
   "source": [
    "alpha = .1\n",
    "for version in [AA_test, AA_NoOutliers_test]:\n",
    "    #columns[1] -> unique paying users & columns[0] -> unique visitors\n",
    "    proportion_ztest(alpha, list(version[version.columns[0]].values),\n",
    "                 list(version[version.columns[1]].values), '', 'AA ',\n",
    "                 version.index[0], version.index[1])"
   ]
  },
  {
   "cell_type": "markdown",
   "metadata": {},
   "source": [
    "Both showed no statisically significant result and as such our tests will be considered reliable."
   ]
  },
  {
   "cell_type": "markdown",
   "metadata": {},
   "source": [
    "<h3 style='text-align:center;'>Hypothesis Tests Per Event</h3>"
   ]
  },
  {
   "cell_type": "markdown",
   "metadata": {},
   "source": [
    "Let's test out each event to asses how the control groups were separated. Since we'll be testing the 4 events per group, it's natural that the false positive rate will increase. To correct for this, we'll use the Bonferroni correction: alpha / m (number of comparisons/ hypothesis tests).\n",
    "\n"
   ]
  },
  {
   "cell_type": "markdown",
   "metadata": {},
   "source": [
    "### For outliers.\n",
    "We didn't consider the outlier + raw data experiments together into the Bonferroni correction, because they are 2 different tests, one for the raw data and one for the filtered data-- each requiring a series of experiments (outlined in hypothesis tests). "
   ]
  },
  {
   "cell_type": "code",
   "execution_count": 369,
   "metadata": {},
   "outputs": [],
   "source": [
    "alpha = .1\n",
    "comparisons = 4\n",
    "bonferroni_alpha = alpha/comparisons\n"
   ]
  },
  {
   "cell_type": "markdown",
   "metadata": {},
   "source": [
    "### <u>Where the groups separated properly?</u> "
   ]
  },
  {
   "cell_type": "code",
   "execution_count": 370,
   "metadata": {},
   "outputs": [],
   "source": [
    "#w/ outliers\n",
    "event246 = ControlGroup.query(\"experiment_id == 246\")['event_name'].value_counts()\n",
    "event247 = ControlGroup.query(\"experiment_id == 247\")['event_name'].value_counts()\n",
    "event248 = data.query(\"experiment_id == 248\")['event_name'].value_counts()\n",
    "\n",
    "#total number of events\n",
    "total246 = len(ControlGroup.query(\"experiment_id == 246\"))\n",
    "total247 = len(ControlGroup.query(\"experiment_id == 247\"))\n",
    "total248 = len(data.query(\"experiment_id == 248\"))\n",
    "    "
   ]
  },
  {
   "cell_type": "code",
   "execution_count": 371,
   "metadata": {},
   "outputs": [],
   "source": [
    "# w/o outliers\n",
    "event246_ = ControlGroup_NoOutliers.query(\"experiment_id == 246\")['event_name'].value_counts()\n",
    "event247_ = ControlGroup_NoOutliers.query(\"experiment_id == 247\")['event_name'].value_counts()\n",
    "event248_ = non_outliers.query(\"experiment_id == 248\")['event_name'].value_counts()\n",
    "\n",
    "#total number of events\n",
    "total246_ = len(ControlGroup_NoOutliers.query(\"experiment_id == 246\"))\n",
    "total247_ = len(ControlGroup_NoOutliers.query(\"experiment_id == 247\"))\n",
    "total248_ = len(non_outliers.query(\"experiment_id == 248\"))"
   ]
  },
  {
   "cell_type": "code",
   "execution_count": 372,
   "metadata": {},
   "outputs": [],
   "source": [
    "events =['MainScreenAppear','OffersScreenAppear','CartScreenAppear','PaymentScreenSuccessful']"
   ]
  },
  {
   "cell_type": "markdown",
   "metadata": {},
   "source": [
    "### EVENT PROPORTIONS: EVENT COUNT {Group A} / TOTAL EVENTS  {Group A}\n",
    "\n",
    "## For each event:\n",
    "- HO: Group 246 event proportion (μ) == Group 247 event proportion (μ) --w/outliers and no outliers\n",
    "- H1: Group 246 event proportion (μ) != Group 247 event proportion (μ) -- w.outliers and no outliers\n"
   ]
  },
  {
   "cell_type": "code",
   "execution_count": 373,
   "metadata": {
    "scrolled": false
   },
   "outputs": [
    {
     "name": "stdout",
     "output_type": "stream",
     "text": [
      "AA_Events  Alpha: 0.025\n",
      "\t\t\t MainScreenAppear \n",
      " Rejecting the null hypothesis: there is a significant difference between the proportions.\n",
      "P-value:0.000\n",
      "Z-value:-13.282\n",
      "\n",
      "246 Event Proportion: 48.26\n",
      "247 Event Proportion: 51.64\n",
      "------------------------------------------------------------------------------\n",
      "AA_Events  Alpha: 0.025\n",
      "\t\t\t OffersScreenAppear \n",
      " Rejecting the null hypothesis: there is a significant difference between the proportions.\n",
      "P-value:0.000\n",
      "Z-value:-5.228\n",
      "\n",
      "246 Event Proportion: 18.54\n",
      "247 Event Proportion: 19.59\n",
      "------------------------------------------------------------------------------\n",
      "AA_Events  Alpha: 0.025\n",
      "\t\t\t CartScreenAppear \n",
      " Rejecting the null hypothesis: there is a significant difference between the proportions.\n",
      "P-value:0.000\n",
      "Z-value:12.686\n",
      "\n",
      "246 Event Proportion: 18.39\n",
      "247 Event Proportion: 15.95\n",
      "------------------------------------------------------------------------------\n",
      "AA_Events  Alpha: 0.025\n",
      "\t\t\t PaymentScreenSuccessful \n",
      " Rejecting the null hypothesis: there is a significant difference between the proportions.\n",
      "P-value:0.000\n",
      "Z-value:11.322\n",
      "\n",
      "246 Event Proportion: 14.8\n",
      "247 Event Proportion: 12.82\n",
      "------------------------------------------------------------------------------\n"
     ]
    }
   ],
   "source": [
    "for event in events:\n",
    "    proportion_ztest(\n",
    "        bonferroni_alpha,  # bonferroni_alpha,\n",
    "        [event246[event], event247[event]],\n",
    "        [total246,total247],\n",
    "        event,\n",
    "        'AA_Events ',\n",
    "        '246',\n",
    "        '247',\"Event Proportion\")"
   ]
  },
  {
   "cell_type": "markdown",
   "metadata": {},
   "source": [
    "All event proportions relative comparisons we're found to be statistically significant (p <.001). (1) Control group 246 had the larger shares in the payment and cart screens (2) Control group 247 had the larger relative share in the mainscreen and offerscreen. This reflects what we saw earlier in the cumulative metrics. Unique users who make a lot of purchases seem to have been placed in 246 at a larger share than in 247"
   ]
  },
  {
   "cell_type": "markdown",
   "metadata": {},
   "source": [
    "Statistically speaking, visitors to the site from control group 246 and experimental group 248, start of at the same proportions, but after that they differ: a higher proportion from the experimental group get past the first stage (to offers screen) (p < .001) but then after proceed less to the cart (p <.001) and purchase stage (p <.001). \n",
    "\n",
    "On the other hand, statistically speaking, those in control group 247 will tend to visit the site more often (p<.001) but then have equal proportions in the next even (offerscreen) indicating a larger dropout in the first stage relative to the experimental group. Thereafter, individuals in the experimental group will more often than not, have a higher event proportion in the cart screen  (p<.001) and payment screen (p<.001)."
   ]
  },
  {
   "cell_type": "code",
   "execution_count": 374,
   "metadata": {},
   "outputs": [
    {
     "name": "stdout",
     "output_type": "stream",
     "text": [
      "AA_Events  Alpha: 0.025\n",
      "\t\t\t MainScreenAppear \n",
      " Rejecting the null hypothesis: there is a significant difference between the proportions.\n",
      "P-value:0.000\n",
      "Z-value:-9.809\n",
      "\n",
      "246 Event Proportion: 51.57\n",
      "247 Event Proportion: 54.14\n",
      "------------------------------------------------------------------------------\n",
      "AA_Events  Alpha: 0.025\n",
      "\t\t\t OffersScreenAppear \n",
      " Rejecting the null hypothesis: there is a significant difference between the proportions.\n",
      "P-value:0.000\n",
      "Z-value:-3.872\n",
      "\n",
      "246 Event Proportion: 19.5\n",
      "247 Event Proportion: 20.31\n",
      "------------------------------------------------------------------------------\n",
      "AA_Events  Alpha: 0.025\n",
      "\t\t\t CartScreenAppear \n",
      " Rejecting the null hypothesis: there is a significant difference between the proportions.\n",
      "P-value:0.000\n",
      "Z-value:10.029\n",
      "\n",
      "246 Event Proportion: 16.29\n",
      "247 Event Proportion: 14.39\n",
      "------------------------------------------------------------------------------\n",
      "AA_Events  Alpha: 0.025\n",
      "\t\t\t PaymentScreenSuccessful \n",
      " Rejecting the null hypothesis: there is a significant difference between the proportions.\n",
      "P-value:0.000\n",
      "Z-value:8.734\n",
      "\n",
      "246 Event Proportion: 12.64\n",
      "247 Event Proportion: 11.15\n",
      "------------------------------------------------------------------------------\n"
     ]
    }
   ],
   "source": [
    "for event in events:\n",
    "    proportion_ztest(\n",
    "        bonferroni_alpha,  # bonferroni_alpha,\n",
    "        [event246_[event], event247_[event]],\n",
    "        [total246_,total247_],\n",
    "        event,\n",
    "        'AA_Events ',\n",
    "        '246',\n",
    "        '247',\"Event Proportion\")"
   ]
  },
  {
   "cell_type": "markdown",
   "metadata": {},
   "source": [
    "When accounting for outliers, the statistically significant results still stand however, as indicated by their z-values, the differences in proportion (dataframe containing outliers) decrease throughout the events. \n",
    "\n",
    "This may be of interest to study further as it seems like users were not seperated in each event equally."
   ]
  },
  {
   "cell_type": "markdown",
   "metadata": {},
   "source": [
    "----------------------------------------------------"
   ]
  },
  {
   "cell_type": "markdown",
   "metadata": {},
   "source": [
    "### EVENT PROPORTIONS: EVENT COUNT {Group X} / TOTAL EVENTS  {Group X}\n",
    "\n",
    "\n",
    "## For each event:\n",
    "1. \n",
    "    - HO: **Group 248** event proportion (μ) == **Group 246** event proportion (μ) --w/outliers and no outliers\n",
    "    - H1: **Group 248** event proportion (μ) != **Group 246** event proportion (μ) -- w.outliers and no outliers\n",
    "\n",
    "\n",
    "2. \n",
    "    - HO: **Group 248** event proportion (μ) == **Group 247** event proportion (μ) --w/outliers and no outliers\n",
    "    - H1: **Group 248** event proportion (μ) != **Group 247** event proportion (μ) -- w.outliers and no outliers"
   ]
  },
  {
   "cell_type": "code",
   "execution_count": 375,
   "metadata": {},
   "outputs": [],
   "source": [
    "alpha = .1\n",
    "event, groups = 4,2\n",
    "comparisons = event * groups \n",
    "bonferroni_alpha = alpha/(event* comparisons)"
   ]
  },
  {
   "cell_type": "code",
   "execution_count": 376,
   "metadata": {},
   "outputs": [
    {
     "name": "stdout",
     "output_type": "stream",
     "text": [
      "AB - Events Alpha: 0.003125\n",
      "\t\t\t MainScreenAppear \n",
      " Failed to reject the null hypothesis: there is no reason to consider the proportions different\n",
      "P-value:0.057\n",
      "Z-value:1.903\n",
      "\n",
      "B: 248 Event Proportion: 48.74\n",
      "A:246 Event Proportion: 48.26\n",
      "------------------------------------------------------------------------------\n",
      "AB - Events Alpha: 0.003125\n",
      "\t\t\t MainScreenAppear \n",
      " Rejecting the null hypothesis: there is a significant difference between the proportions.\n",
      "P-value:0.000\n",
      "Z-value:-11.602\n",
      "\n",
      "B: 248 Event Proportion: 48.74\n",
      "A:247 Event Proportion: 51.64\n",
      "------------------------------------------------------------------------------\n",
      "AB - Events Alpha: 0.003125\n",
      "\t\t\t OffersScreenAppear \n",
      " Rejecting the null hypothesis: there is a significant difference between the proportions.\n",
      "P-value:0.000\n",
      "Z-value:3.879\n",
      "\n",
      "B: 248 Event Proportion: 19.3\n",
      "A:246 Event Proportion: 18.54\n",
      "------------------------------------------------------------------------------\n",
      "AB - Events Alpha: 0.003125\n",
      "\t\t\t OffersScreenAppear \n",
      " Failed to reject the null hypothesis: there is no reason to consider the proportions different\n",
      "P-value:0.144\n",
      "Z-value:-1.459\n",
      "\n",
      "B: 248 Event Proportion: 19.3\n",
      "A:247 Event Proportion: 19.59\n",
      "------------------------------------------------------------------------------\n",
      "AB - Events Alpha: 0.003125\n",
      "\t\t\t CartScreenAppear \n",
      " Rejecting the null hypothesis: there is a significant difference between the proportions.\n",
      "P-value:0.002\n",
      "Z-value:-3.106\n",
      "\n",
      "B: 248 Event Proportion: 17.8\n",
      "A:246 Event Proportion: 18.39\n",
      "------------------------------------------------------------------------------\n",
      "AB - Events Alpha: 0.003125\n",
      "\t\t\t CartScreenAppear \n",
      " Rejecting the null hypothesis: there is a significant difference between the proportions.\n",
      "P-value:0.000\n",
      "Z-value:9.801\n",
      "\n",
      "B: 248 Event Proportion: 17.8\n",
      "A:247 Event Proportion: 15.95\n",
      "------------------------------------------------------------------------------\n",
      "AB - Events Alpha: 0.003125\n",
      "\t\t\t PaymentScreenSuccessful \n",
      " Rejecting the null hypothesis: there is a significant difference between the proportions.\n",
      "P-value:0.000\n",
      "Z-value:-3.624\n",
      "\n",
      "B: 248 Event Proportion: 14.17\n",
      "A:246 Event Proportion: 14.8\n",
      "------------------------------------------------------------------------------\n",
      "AB - Events Alpha: 0.003125\n",
      "\t\t\t PaymentScreenSuccessful \n",
      " Rejecting the null hypothesis: there is a significant difference between the proportions.\n",
      "P-value:0.000\n",
      "Z-value:7.906\n",
      "\n",
      "B: 248 Event Proportion: 14.17\n",
      "A:247 Event Proportion: 12.82\n",
      "------------------------------------------------------------------------------\n"
     ]
    }
   ],
   "source": [
    "for event in events:\n",
    "    for AA_group, totalAA,label  in zip([event246, event247], [total246, total247],['246','247']):\n",
    "        proportion_ztest(bonferroni_alpha,\n",
    "                         [event248[event], AA_group[event]], [total248,totalAA],\n",
    "                          event, 'AB - Events', 'B: 248',\n",
    "                         'A:'+label,\"Event Proportion\")"
   ]
  },
  {
   "cell_type": "markdown",
   "metadata": {},
   "source": [
    "Statistically speaking, event proportions from control group 247 have a higher mainscreen proportion rate than the experimental group (p<.001), but less in the cart screen (p <.001) and purchase screen (p <.001). \n",
    "\n",
    "An inverse result appears between control group 246 and the experimental group. Statistically speaking, visitors to the site from experimental group 248 have a higher mainscreen proportion rate than control group 246 (p<.001), but less in the cart screen (p <.001) and purchase screen (p <.001). \n",
    "\n",
    "Let's run this again for the non-outlier data."
   ]
  },
  {
   "cell_type": "code",
   "execution_count": 377,
   "metadata": {},
   "outputs": [
    {
     "name": "stdout",
     "output_type": "stream",
     "text": [
      "AB - Events Alpha: 0.003125\n",
      "\t\t\t MainScreenAppear \n",
      " Rejecting the null hypothesis: there is a significant difference between the proportions.\n",
      "P-value:0.000\n",
      "Z-value:6.462\n",
      "\n",
      "B: 248 Event Proportion: 53.25\n",
      "A: 246 Event Proportion: 51.57\n",
      "------------------------------------------------------------------------------\n",
      "AB - Events Alpha: 0.003125\n",
      "\t\t\t MainScreenAppear \n",
      " Rejecting the null hypothesis: there is a significant difference between the proportions.\n",
      "P-value:0.001\n",
      "Z-value:-3.455\n",
      "\n",
      "B: 248 Event Proportion: 53.25\n",
      "A: 247 Event Proportion: 54.14\n",
      "------------------------------------------------------------------------------\n",
      "AB - Events Alpha: 0.003125\n",
      "\t\t\t OffersScreenAppear \n",
      " Failed to reject the null hypothesis: there is no reason to consider the proportions different\n",
      "P-value:0.013\n",
      "Z-value:2.478\n",
      "\n",
      "B: 248 Event Proportion: 20.01\n",
      "A: 246 Event Proportion: 19.5\n",
      "------------------------------------------------------------------------------\n",
      "AB - Events Alpha: 0.003125\n",
      "\t\t\t OffersScreenAppear \n",
      " Failed to reject the null hypothesis: there is no reason to consider the proportions different\n",
      "P-value:0.151\n",
      "Z-value:-1.436\n",
      "\n",
      "B: 248 Event Proportion: 20.01\n",
      "A: 247 Event Proportion: 20.31\n",
      "------------------------------------------------------------------------------\n",
      "AB - Events Alpha: 0.003125\n",
      "\t\t\t CartScreenAppear \n",
      " Rejecting the null hypothesis: there is a significant difference between the proportions.\n",
      "P-value:0.000\n",
      "Z-value:-5.746\n",
      "\n",
      "B: 248 Event Proportion: 15.2\n",
      "A: 246 Event Proportion: 16.29\n",
      "------------------------------------------------------------------------------\n",
      "AB - Events Alpha: 0.003125\n",
      "\t\t\t CartScreenAppear \n",
      " Rejecting the null hypothesis: there is a significant difference between the proportions.\n",
      "P-value:0.000\n",
      "Z-value:4.396\n",
      "\n",
      "B: 248 Event Proportion: 15.2\n",
      "A: 247 Event Proportion: 14.39\n",
      "------------------------------------------------------------------------------\n",
      "AB - Events Alpha: 0.003125\n",
      "\t\t\t PaymentScreenSuccessful \n",
      " Rejecting the null hypothesis: there is a significant difference between the proportions.\n",
      "P-value:0.000\n",
      "Z-value:-6.511\n",
      "\n",
      "B: 248 Event Proportion: 11.54\n",
      "A: 246 Event Proportion: 12.64\n",
      "------------------------------------------------------------------------------\n",
      "AB - Events Alpha: 0.003125\n",
      "\t\t\t PaymentScreenSuccessful \n",
      " Failed to reject the null hypothesis: there is no reason to consider the proportions different\n",
      "P-value:0.020\n",
      "Z-value:2.325\n",
      "\n",
      "B: 248 Event Proportion: 11.54\n",
      "A: 247 Event Proportion: 11.15\n",
      "------------------------------------------------------------------------------\n"
     ]
    }
   ],
   "source": [
    "for event in events:\n",
    "    for AA_group, totalAA,label in zip([event246_, event247_], [total246_, total247_],['246','247']):\n",
    "        proportion_ztest(bonferroni_alpha,\n",
    "                         [event248_[event], AA_group[event]], [total248_,totalAA],\n",
    "                          event, 'AB - Events', 'B: 248',\n",
    "                         'A: '+label,\"Event Proportion\")"
   ]
  },
  {
   "cell_type": "markdown",
   "metadata": {},
   "source": [
    "When comparing these results against the results seen in the dataframe with outliers, similar results appear as the last one. In particular, we can observe that the event poroportions for the cart and offer screen statistically differ between the two control group and experimental group. Interestingly enough, results favor 248 in relation to control group 247. On the other hand, results favor the control group 246 in relation to the experimental group. \n",
    "\n",
    "So, event porpotions"
   ]
  },
  {
   "cell_type": "markdown",
   "metadata": {},
   "source": [
    "<h3 style='text-align:center;'><u>A1 and B</u> & <u>A2 and B</u> Hypothesis Test -Conversion Rates</h3>"
   ]
  },
  {
   "cell_type": "markdown",
   "metadata": {},
   "source": [
    "### CONVERSION RATE: Unique customers / Unique visitors\n",
    "\n",
    "## Per AA group: \n",
    "<ul>\n",
    "    <li>HO: <b>Group 248</b> user conversion rates (&#956;) = <b>AA group</b> user conversion rate (&#956;)   --w/outliers and no outliers</li>\n",
    "    <li>H1: <b>Group 248</b> user conversion rates (&#956;) != <b>AA group</b> user conversion rate (&#956;)  -- w.outliers and no outliers</li>\n",
    "    \n",
    "Checking if font size for experimental group 248 converts more unique users."
   ]
  },
  {
   "cell_type": "code",
   "execution_count": 378,
   "metadata": {},
   "outputs": [],
   "source": [
    "bonferroni_alpha = alpha / 2"
   ]
  },
  {
   "cell_type": "code",
   "execution_count": 379,
   "metadata": {},
   "outputs": [],
   "source": [
    "B_test = pd.merge(data.query(\"experiment_id == 248 and event_name in ['PaymentScreenSuccessful']\"\n",
    "             ).groupby('experiment_id').agg({\"user_id\":\"nunique\"}),\n",
    "        data.query(\"experiment_id == 248\"\n",
    "             ).groupby('experiment_id').agg({\"user_id\":\"nunique\"}),left_index=True, right_index=True)"
   ]
  },
  {
   "cell_type": "code",
   "execution_count": 380,
   "metadata": {},
   "outputs": [],
   "source": [
    "B_test_NoOutliers= pd.merge(non_outliers.query(\"experiment_id == 248 and event_name in ['PaymentScreenSuccessful']\"\n",
    "             ).groupby('experiment_id').agg({\"user_id\":\"nunique\"}),\n",
    "                  non_outliers.query(\"experiment_id == 248\"\n",
    "             ).groupby('experiment_id').agg({\"user_id\":\"nunique\"}),left_index=True, right_index=True)"
   ]
  },
  {
   "cell_type": "code",
   "execution_count": 381,
   "metadata": {},
   "outputs": [],
   "source": [
    "B_test.columns = ['unique_customers','unique_visitors']\n",
    "B_test_NoOutliers.columns = ['unique_customers','unique_visitors']"
   ]
  },
  {
   "cell_type": "code",
   "execution_count": 382,
   "metadata": {},
   "outputs": [
    {
     "data": {
      "text/plain": [
       "unique_customers    1170\n",
       "unique_visitors     2450\n",
       "Name: 246, dtype: int64"
      ]
     },
     "execution_count": 382,
     "metadata": {},
     "output_type": "execute_result"
    }
   ],
   "source": [
    "AA_test.iloc[0]"
   ]
  },
  {
   "cell_type": "code",
   "execution_count": 383,
   "metadata": {},
   "outputs": [
    {
     "data": {
      "text/plain": [
       "<function __main__.proportion_ztest(alpha, successes, visits, event_name, test_group_label, first, second, measure='Conversion Rates')>"
      ]
     },
     "execution_count": 383,
     "metadata": {},
     "output_type": "execute_result"
    }
   ],
   "source": [
    "proportion_ztest"
   ]
  },
  {
   "cell_type": "code",
   "execution_count": 384,
   "metadata": {},
   "outputs": [
    {
     "data": {
      "text/plain": [
       "1144"
      ]
     },
     "execution_count": 384,
     "metadata": {},
     "output_type": "execute_result"
    }
   ],
   "source": [
    "int(B_test['unique_customers'])"
   ]
  },
  {
   "cell_type": "code",
   "execution_count": 385,
   "metadata": {},
   "outputs": [
    {
     "name": "stdout",
     "output_type": "stream",
     "text": [
      "AB Alpha: 0.05\n",
      "\t\t\t  \n",
      " Failed to reject the null hypothesis: there is no reason to consider the proportions different\n",
      "P-value:0.184\n",
      "Z-value:-1.328\n",
      "\n",
      "248 Conversion Rates: 45.87\n",
      "246 Conversion Rates: 47.76\n",
      "------------------------------------------------------------------------------\n",
      "AB Alpha: 0.05\n",
      "\t\t\t  \n",
      " Failed to reject the null hypothesis: there is no reason to consider the proportions different\n",
      "P-value:0.795\n",
      "Z-value:0.260\n",
      "\n",
      "248 Conversion Rates: 45.87\n",
      "247 Conversion Rates: 45.5\n",
      "------------------------------------------------------------------------------\n"
     ]
    }
   ],
   "source": [
    "\n",
    "for AA_group in range(2):\n",
    "    A = AA_test.iloc[AA_group]\n",
    "    proportion_ztest(bonferroni_alpha,\n",
    "                    [int(B_test['unique_customers']), A.loc['unique_customers']],\n",
    "                    [int(B_test['unique_visitors']), A.loc['unique_visitors']],   \n",
    "                     '', 'AB','248',AA_test.index[AA_group])"
   ]
  },
  {
   "cell_type": "markdown",
   "metadata": {},
   "source": [
    "User conversion rates amongst the two groups is not statistically significant.  Let's filter out the outliers and check again."
   ]
  },
  {
   "cell_type": "code",
   "execution_count": 386,
   "metadata": {},
   "outputs": [
    {
     "name": "stdout",
     "output_type": "stream",
     "text": [
      "AB Alpha: 0.05\n",
      "\t\t\t  \n",
      " Failed to reject the null hypothesis: there is no reason to consider the proportions different\n",
      "P-value:0.169\n",
      "Z-value:-1.374\n",
      "\n",
      "248 Conversion Rates: 45.7\n",
      "246 Conversion Rates: 47.65\n",
      "------------------------------------------------------------------------------\n",
      "AB Alpha: 0.05\n",
      "\t\t\t  \n",
      " Failed to reject the null hypothesis: there is no reason to consider the proportions different\n",
      "P-value:0.854\n",
      "Z-value:0.184\n",
      "\n",
      "248 Conversion Rates: 45.7\n",
      "247 Conversion Rates: 45.44\n",
      "------------------------------------------------------------------------------\n"
     ]
    }
   ],
   "source": [
    "for AA_group in range(2):\n",
    "    A = AA_NoOutliers_test.iloc[AA_group]\n",
    "    proportion_ztest(bonferroni_alpha,\n",
    "                    [int(B_test_NoOutliers['unique_customers']), A.loc['unique_customers']],\n",
    "                    [int(B_test_NoOutliers['unique_visitors']), A.loc['unique_visitors']],   \n",
    "                     '', 'AB','248',AA_NoOutliers_test.index[AA_group])"
   ]
  },
  {
   "cell_type": "markdown",
   "metadata": {},
   "source": [
    "When accounting for outliers (and more reliable data for that ammter),the same relations remain."
   ]
  },
  {
   "cell_type": "markdown",
   "metadata": {},
   "source": [
    "# Key Takeaways"
   ]
  },
  {
   "cell_type": "markdown",
   "metadata": {},
   "source": [
    "- On the aggregate level, roughly 40% of unique users who enter the main screen don't proceed to the next stage, offer screen. However, around 81% of users in the offer screen continue to the next stage screen and 94% of them go on to successfully make their purchase. \n",
    "-  48% and then 46% of unique users make it to the critical stages in the funnel, cart and payment screen, respectively. \n",
    "- Around half of all visits land on the main screen page with < 14% landing on the paymentscreen page. With a 14% conversion rate.\n",
    "- Users where within .5% of each other - evenly divided across all experimental groups\n",
    "- Without outliers, there seems to be a problem: Control group A (246) has a higher user conversion rate in comparison to the other control group (247). However, when taking the outliers into account, the difference is no longer apparent across all groups. The cumulative metric graph has shown that user conversion rates have  stabilized.\n",
    "- Most event proportions we're found to be statistically significant (p <.001) amongst all groups indicating some potential bias in the splitting of users in each event.\n",
    "- Relative to the experimental group:\n",
    "        - (1) Control group 246 had the larger shares in the payment and cart screens (2) Control group 247 had the larger relative share in the mainscreen and offerscreen.\n",
    "- A/B tests showed no statistically significant results (p > .05) amongst the groups regardless of outliers being present or not. "
   ]
  },
  {
   "cell_type": "markdown",
   "metadata": {},
   "source": [
    "# Recommendation"
   ]
  },
  {
   "cell_type": "markdown",
   "metadata": {},
   "source": [
    "1. A further analysis should be done looking at potential errors occurring during the mainscreen and offerscreen stages based on the differing proportions amongst the control groups.\n",
    "2. Need for improvements in retention at the offer screen as well as potential for improvement in getting customer's from purchasing the items that they have in their cart.\n",
    "3. Based on the non-significant the A/B test results, stabilizing cumulative charts, the company should: Stop the experiment as the results don't show any improvement in  user conversion rates between the control groups and the experimental group\n",
    "    - all relevant t-tests regardless of outlier presence: p > .05"
   ]
  },
  {
   "cell_type": "code",
   "execution_count": null,
   "metadata": {},
   "outputs": [],
   "source": []
  }
 ],
 "metadata": {
  "kernelspec": {
   "display_name": "Python 3",
   "language": "python",
   "name": "python3"
  },
  "language_info": {
   "codemirror_mode": {
    "name": "ipython",
    "version": 3
   },
   "file_extension": ".py",
   "mimetype": "text/x-python",
   "name": "python",
   "nbconvert_exporter": "python",
   "pygments_lexer": "ipython3",
   "version": "3.7.4"
  },
  "varInspector": {
   "cols": {
    "lenName": 16,
    "lenType": 16,
    "lenVar": 40
   },
   "kernels_config": {
    "python": {
     "delete_cmd_postfix": "",
     "delete_cmd_prefix": "del ",
     "library": "var_list.py",
     "varRefreshCmd": "print(var_dic_list())"
    },
    "r": {
     "delete_cmd_postfix": ") ",
     "delete_cmd_prefix": "rm(",
     "library": "var_list.r",
     "varRefreshCmd": "cat(var_dic_list()) "
    }
   },
   "types_to_exclude": [
    "module",
    "function",
    "builtin_function_or_method",
    "instance",
    "_Feature"
   ],
   "window_display": false
  }
 },
 "nbformat": 4,
 "nbformat_minor": 2
}
